{
 "cells": [
  {
   "cell_type": "code",
   "execution_count": null,
   "metadata": {},
   "outputs": [],
   "source": [
    "import os\n",
    "import sys\n",
    "module_path = os.path.abspath(os.path.join('../src'))\n",
    "if module_path not in sys.path:\n",
    "    sys.path.append(module_path)\n"
   ]
  },
  {
   "cell_type": "code",
   "execution_count": null,
   "metadata": {},
   "outputs": [],
   "source": [
    "import vsopy.util\n",
    "import vsopy.data\n",
    "\n",
    "OBJ_NAME='SZ Lyn'\n",
    "SESSION_TAG='20250127'\n",
    "# OBJ_NAME='RZ Lyr'\n",
    "# SESSION_TAG='20240827'\n",
    "IMAGE_ROOT = '/srv/public/img'\n",
    "WORK_ROOT = '/srv/public'\n",
    "\n",
    "session = vsopy.util.Session(tag=SESSION_TAG, name=OBJ_NAME)\n",
    "layout = vsopy.util.WorkLayout(WORK_ROOT)\n",
    "session_layout = layout.get_session(session)\n",
    "settings = vsopy.util.Settings(session_layout.settings_file_path)"
   ]
  },
  {
   "cell_type": "code",
   "execution_count": null,
   "metadata": {},
   "outputs": [],
   "source": [
    "import astropy.units as u\n",
    "from astropy.nddata import CCDData\n",
    "from astropy.stats import sigma_clipped_stats\n",
    "from astropy.table import QTable\n",
    "import matplotlib.pyplot as plt\n",
    "import numpy as np\n",
    "\n",
    "from vsopy.reduce import astap_solver, CalibrationMatcher, update_wcs, calibrate_image, load_and_solve\n",
    "from vsopy.phot import process_image, measure_photometry\n",
    "from vsopy.util import Settings, default_table_format\n",
    "\n",
    "settings = Settings(session_layout.settings_file_path)\n"
   ]
  },
  {
   "cell_type": "code",
   "execution_count": null,
   "metadata": {},
   "outputs": [],
   "source": [
    "from vsopy import phot\n",
    "\n",
    "\n",
    "bands = ('V', 'Rc')\n",
    "\n",
    "provider = phot.BatchDataProvider(session_layout)\n",
    "vsopy.util.default_table_format(provider.sequence_band_pair(bands))"
   ]
  },
  {
   "cell_type": "code",
   "execution_count": null,
   "metadata": {},
   "outputs": [],
   "source": [
    "set(provider.sequence_['auid'])"
   ]
  },
  {
   "cell_type": "code",
   "execution_count": null,
   "metadata": {},
   "outputs": [],
   "source": [
    "vsopy.util.default_table_format(provider.batch_band_pair(bands))"
   ]
  },
  {
   "cell_type": "code",
   "execution_count": null,
   "metadata": {},
   "outputs": [],
   "source": [
    "from astropy.table import join\n",
    "#result = phot.batch_diff_photometry(provider, bands, '000-BJR-415')\n",
    "xfm = phot.batch_create_simple_transform(provider, bands)\n",
    "result = phot.batch_apply_simple_transform(provider, xfm, bands, '000-BJR-415')\n",
    "vsopy.util.default_table_format(result)\n",
    "#join(result, provider.batches_, 'batch_id')['time']"
   ]
  },
  {
   "cell_type": "code",
   "execution_count": null,
   "metadata": {},
   "outputs": [],
   "source": [
    "comp_auid = '000-BJR-415'\n",
    "check_auid = '000-BJR-416'\n",
    "check_result = phot.batch_diff_photometry(provider, bands, comp_auid, check_auid)\n",
    "# #vsopy.util.default_table_format(result)\n",
    "check = provider.check_band_pair(bands, check_auid)\n",
    "check_result[bands[0]]['mag'] - check[bands[0]]['mag']"
   ]
  },
  {
   "cell_type": "code",
   "execution_count": null,
   "metadata": {},
   "outputs": [],
   "source": [
    "provider.sequence_band_pair(('V', 'Rc'))\n",
    "#provider.check_band_pair(('V', 'Rc'), '000-BBP-198')"
   ]
  }
 ],
 "metadata": {
  "kernelspec": {
   "display_name": ".venv",
   "language": "python",
   "name": "python3"
  },
  "language_info": {
   "codemirror_mode": {
    "name": "ipython",
    "version": 3
   },
   "file_extension": ".py",
   "mimetype": "text/x-python",
   "name": "python",
   "nbconvert_exporter": "python",
   "pygments_lexer": "ipython3",
   "version": "3.13.2"
  }
 },
 "nbformat": 4,
 "nbformat_minor": 2
}
