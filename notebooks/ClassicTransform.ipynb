{
 "cells": [
  {
   "cell_type": "code",
   "execution_count": null,
   "metadata": {},
   "outputs": [],
   "source": [
    "import os\n",
    "import sys\n",
    "module_path = os.path.abspath(os.path.join('../src'))\n",
    "if module_path not in sys.path:\n",
    "    sys.path.append(module_path)\n"
   ]
  },
  {
   "cell_type": "markdown",
   "metadata": {},
   "source": [
    "# Build Classic Transform\n",
    "\n",
    "Use standard field to calculate photometric transform by classic method (\"slope of slopes\")"
   ]
  },
  {
   "cell_type": "code",
   "execution_count": null,
   "metadata": {},
   "outputs": [],
   "source": [
    "import vso.util\n",
    "import vso.data\n",
    "import vso.phot\n",
    "import numpy as np\n",
    "\n",
    "OBJECTS = ['SA20', 'SA38', 'SA41']\n",
    "SESSION_TAG='2024/20241003'\n",
    "IMAGE_ROOT = '/srv/public/img'\n",
    "WORK_ROOT = '/srv/public'\n",
    "\n",
    "layout = vso.util.WorkLayout(WORK_ROOT)\n",
    "sd = vso.data.StarData(layout.charts_dir)\n"
   ]
  },
  {
   "cell_type": "code",
   "execution_count": null,
   "metadata": {},
   "outputs": [],
   "source": [
    "from astropy.table import QTable, Column, vstack, join\n",
    "\n",
    "bands = ('B', 'V')\n",
    "def get_session_data(name, tag, bands):\n",
    "    session = vso.util.Session(tag=tag, name=name)\n",
    "    layout = vso.util.WorkLayout(WORK_ROOT)\n",
    "    session_layout = layout.get_session(session)\n",
    "    provider = vso.phot.BatchDataProvider(session_layout)\n",
    "    return provider.batch_and_sequence_band_pair(bands)\n"
   ]
  },
  {
   "cell_type": "code",
   "execution_count": null,
   "metadata": {},
   "outputs": [],
   "source": [
    "from vso.phot import ValErr, ValErrDtype\n",
    "from scipy import stats as sst\n",
    "from collections import namedtuple\n",
    "\n",
    "PointClassicTransform = namedtuple('PointClassicTransform', ['Ta', 'Za', 'Tb', 'Zb'])\n",
    "\n",
    "def fiilter_std(xfm, X, scale=1):\n",
    "    limit = np.mean(xfm[X]['err']) + scale*np.std(xfm[X]['err'])\n",
    "    return xfm[X]['err'] < limit\n",
    "\n",
    "def fiilter_std_all(xfm, scale=1):\n",
    "    return fiilter_std(xfm, 'Ta', scale) & fiilter_std(xfm, 'Za', scale) & fiilter_std(xfm, 'Tb', scale) & fiilter_std(xfm, 'Zb', scale)\n",
    "\n",
    "def calc_batched_classic_transform(name, tag, bands):\n",
    "    def batch_regression(batch, bands):\n",
    "        ci = batch[bands[0]]['mag'] - batch[bands[1]]['mag']\n",
    "        dA = batch[bands[0]]['mag'] - batch[f\"instr {bands[0]}\"]['mag']\n",
    "        dB = batch[bands[1]]['mag'] - batch[f\"instr {bands[1]}\"]['mag']\n",
    "        regA = sst.linregress(ci, dA)\n",
    "        regB = sst.linregress(ci, dB)\n",
    "        return PointClassicTransform(ValErr(regA.slope, regA.stderr),\n",
    "                                ValErr(regA.intercept, regA.intercept_stderr),\n",
    "                                ValErr(regB.slope, regB.stderr),\n",
    "                                ValErr(regB.intercept, regB.intercept_stderr))\n",
    "    session = vso.util.Session(tag=tag, name=name)\n",
    "    layout = vso.util.WorkLayout(WORK_ROOT)\n",
    "    session_layout = layout.get_session(session)\n",
    "    provider = vso.phot.BatchDataProvider(session_layout)\n",
    "\n",
    "    data = provider.batch_and_sequence_band_pair(bands)\n",
    "    batched = data.group_by('batch_id').groups\n",
    "    airmass = join(batched.keys, provider.batches_['batch_id', 'airmass', 'airmass_range'], 'batch_id')\n",
    "    result = QTable(dict(\n",
    "        batch_id=batched.keys['batch_id'],\n",
    "        airmass = airmass['airmass'],\n",
    "        airmass_range = airmass['airmass_range'],\n",
    "        xfm=Column([batch_regression(batch, bands) for batch in batched],\n",
    "                    dtype=[('Ta', ValErrDtype), ('Za', ValErrDtype), ('Tb', ValErrDtype), ('Zb', ValErrDtype)])))\n",
    "    return result#[fiilter_std_all(result['xfm'], scale=.5)]\n",
    "tr1 = calc_batched_classic_transform(OBJECTS[0], SESSION_TAG, bands)\n",
    "\n",
    "vso.util.default_table_format(tr1)\n"
   ]
  },
  {
   "cell_type": "code",
   "execution_count": null,
   "metadata": {},
   "outputs": [],
   "source": [
    "import matplotlib.pyplot as plt\n",
    "\n",
    "data = [(obj, calc_batched_classic_transform(obj, SESSION_TAG, bands)) for obj in OBJECTS]\n",
    "\n",
    "def plot_band_xfm(ax, data, T, Z):\n",
    "    for obj, d in data:\n",
    "        xfm = d['xfm']\n",
    "        ax.errorbar(xfm[T]['val'], xfm[Z]['val'], xerr=xfm[T]['err']/2, yerr=xfm[Z]['err']/2, fmt='.', label=obj)\n",
    "\n",
    "fig = plt.figure(figsize=(10.24, 6.4))\n",
    "gs = fig.add_gridspec(1, 2)\n",
    "\n",
    "ax = plt.subplot(gs[0,0])\n",
    "plot_band_xfm(ax, data, 'Ta', 'Za')\n",
    "ax.legend()\n",
    "ax.set_title(bands[0])\n",
    "\n",
    "ax = plt.subplot(gs[0,1])\n",
    "plot_band_xfm(ax, data, 'Tb', 'Zb')\n",
    "ax.legend()\n",
    "ax.set_title(bands[1])\n",
    "\n",
    "plt.tight_layout()\n",
    "plt.show"
   ]
  },
  {
   "cell_type": "code",
   "execution_count": null,
   "metadata": {},
   "outputs": [],
   "source": [
    "def plot_airmass_xfm(ax, data, X):\n",
    "    for obj, d in data:\n",
    "        xfm = d['xfm']\n",
    "        ax.errorbar(d['airmass'], xfm[X]['val'], xerr=d['airmass_range']/2, yerr=xfm[X]['err']/2, fmt='.', label=obj)\n",
    "\n",
    "fig = plt.figure(figsize=(10.24, 10.24))\n",
    "gs = fig.add_gridspec(2, 2)\n",
    "\n",
    "ax = plt.subplot(gs[0,0])\n",
    "plot_airmass_xfm(ax, data, 'Ta')\n",
    "ax.legend()\n",
    "ax.set_title(rf'$\\ T_{bands[0]} $')\n",
    "\n",
    "ax = plt.subplot(gs[0,1])\n",
    "plot_airmass_xfm(ax, data, 'Za')\n",
    "ax.legend()\n",
    "ax.set_title(rf'$\\ Z_{bands[0]} $')\n",
    "\n",
    "ax = plt.subplot(gs[1,0])\n",
    "plot_airmass_xfm(ax, data, 'Tb')\n",
    "ax.legend()\n",
    "ax.set_title(rf'$\\ T_{bands[1]} $')\n",
    "\n",
    "ax = plt.subplot(gs[1,1])\n",
    "plot_airmass_xfm(ax, data, 'Zb')\n",
    "ax.legend()\n",
    "ax.set_title(rf'$\\ Z_{bands[1]} $')\n",
    "\n",
    "plt.tight_layout()\n",
    "plt.show"
   ]
  },
  {
   "cell_type": "code",
   "execution_count": null,
   "metadata": {},
   "outputs": [],
   "source": [
    "ClassicTransform = namedtuple('ClassicTransform', ['T', 'k2', 'Z', 'k1'])\n",
    "ClassicTransformDtype=[('T', ValErrDtype), ('k2', ValErrDtype), ('Z', ValErrDtype), ('k1', ValErrDtype)]\n",
    "\n",
    "all_data = vstack([d['airmass', 'xfm'] for _, d in data])\n",
    "Ta = sst.linregress(all_data['airmass'], all_data['xfm']['Ta']['val'])\n",
    "Za = sst.linregress(all_data['airmass'], all_data['xfm']['Za']['val'])\n",
    "Tb = sst.linregress(all_data['airmass'], all_data['xfm']['Tb']['val'])\n",
    "Zb = sst.linregress(all_data['airmass'], all_data['xfm']['Zb']['val'])\n",
    "tr_path = vso.util.WorkLayout(WORK_ROOT).root_dir / 'session' / SESSION_TAG / f\"Tr_{bands[0]}{bands[1]}.ecsv\"\n",
    "session_tr = QTable({\n",
    "    bands[0]: Column([ClassicTransform(ValErr(Ta.intercept, Ta.intercept_stderr), ValErr(Ta.slope, Ta.stderr),\n",
    "                               ValErr(Za.intercept, Za.intercept_stderr), ValErr(Za.slope, Za.stderr))], dtype=ClassicTransformDtype),\n",
    "    bands[1]: Column([ClassicTransform(ValErr(Tb.intercept, Tb.intercept_stderr), ValErr(Tb.slope, Tb.stderr),\n",
    "                               ValErr(Zb.intercept, Zb.intercept_stderr), ValErr(Zb.slope, Zb.stderr))], dtype=ClassicTransformDtype)})\n",
    "session_tr.write(tr_path, format='ascii.ecsv', overwrite=True)\n",
    "session_tr"
   ]
  }
 ],
 "metadata": {
  "kernelspec": {
   "display_name": ".venv",
   "language": "python",
   "name": "python3"
  },
  "language_info": {
   "codemirror_mode": {
    "name": "ipython",
    "version": 3
   },
   "file_extension": ".py",
   "mimetype": "text/x-python",
   "name": "python",
   "nbconvert_exporter": "python",
   "pygments_lexer": "ipython3",
   "version": "3.12.3"
  }
 },
 "nbformat": 4,
 "nbformat_minor": 2
}
