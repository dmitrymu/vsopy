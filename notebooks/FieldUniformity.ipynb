{
 "cells": [
  {
   "cell_type": "code",
   "execution_count": null,
   "metadata": {},
   "outputs": [],
   "source": [
    "import os\n",
    "import sys\n",
    "module_path = os.path.abspath(os.path.join('../src'))\n",
    "if module_path not in sys.path:\n",
    "    sys.path.append(module_path)\n",
    "#from vso import util, data\n",
    "import astropy.units as u\n",
    "from SetupSession import use_dark_theme\n"
   ]
  },
  {
   "cell_type": "markdown",
   "metadata": {},
   "source": [
    "# Estimate star shape uniformity across field of view"
   ]
  },
  {
   "cell_type": "code",
   "execution_count": null,
   "metadata": {},
   "outputs": [],
   "source": [
    "import vso.util\n",
    "import vso.data\n",
    "\n",
    "OBJ_NAME='SZ Lyn'\n",
    "SESSION_TAG='2025/20250126'\n",
    "IMAGE_ROOT = '/srv/public/img'\n",
    "WORK_ROOT = '/srv/public'\n",
    "\n",
    "session = vso.util.Session(tag=SESSION_TAG, name=OBJ_NAME)\n",
    "layout = vso.util.WorkLayout(WORK_ROOT)\n",
    "session_layout = layout.get_session(session)\n",
    "IMAGE_DIR = vso.util.ImageLayout(IMAGE_ROOT).get_images(session).lights_dir / 'V'\n",
    "sd = vso.data.StarData(layout.charts_dir)"
   ]
  },
  {
   "cell_type": "markdown",
   "metadata": {},
   "source": [
    "Select image, plate solve and calibrate"
   ]
  },
  {
   "cell_type": "code",
   "execution_count": null,
   "metadata": {},
   "outputs": [],
   "source": [
    "import ccdproc as ccdp\n",
    "import vso.reduce\n",
    "\n",
    "ifc = ccdp.ImageFileCollection(IMAGE_DIR)\n",
    "path = IMAGE_DIR / ifc.summary['file'][0]\n",
    "image  = vso.reduce.load_and_solve(path, session_layout.solved_dir)\n",
    "matcher = vso.reduce.CalibrationMatcher(layout.calibr_dir, temp_tolerance=2*u.K)\n",
    "cal = matcher.match(image.header)\n",
    "reduced = vso.reduce.calibrate_image(image,\n",
    "                        dark=cal.dark,\n",
    "                        flat=cal.flat)\n"
   ]
  },
  {
   "cell_type": "markdown",
   "metadata": {},
   "source": [
    "Detect point sources"
   ]
  },
  {
   "cell_type": "code",
   "execution_count": null,
   "metadata": {},
   "outputs": [],
   "source": [
    "from astropy.stats import sigma_clipped_stats\n",
    "from photutils.detection import DAOStarFinder\n",
    "from astropy.coordinates import SkyCoord\n",
    "\n",
    "mean, median, std = sigma_clipped_stats(reduced.data, sigma=3.0)\n",
    "daofind = DAOStarFinder(fwhm=10.0, threshold=5.*std)\n",
    "\n",
    "sources = daofind(reduced.data)\n",
    "#sources\n"
   ]
  },
  {
   "cell_type": "markdown",
   "metadata": {},
   "source": [
    "Run aperture photometry for all sources"
   ]
  },
  {
   "cell_type": "code",
   "execution_count": null,
   "metadata": {},
   "outputs": [],
   "source": [
    "from photutils.aperture import CircularAperture, ApertureStats\n",
    "\n",
    "ap = CircularAperture(zip(sources['xcentroid'], sources['ycentroid']), r=5)\n",
    "ph = ApertureStats(reduced, ap)"
   ]
  },
  {
   "cell_type": "markdown",
   "metadata": {},
   "source": [
    "Plot statistics acrdos FOV"
   ]
  },
  {
   "cell_type": "code",
   "execution_count": null,
   "metadata": {},
   "outputs": [],
   "source": [
    "import matplotlib.pyplot as plt\n",
    "\n",
    "fig = plt.figure(figsize=(12.80, 12.80), layout=\"constrained\")\n",
    "gs = fig.add_gridspec(2, 2)\n",
    "\n",
    "ax = fig.add_subplot(gs[0, 0])\n",
    "c = ax.tricontourf(sources['xcentroid'], sources['ycentroid'], sources['sharpness'])\n",
    "plt.colorbar(c, ax=ax)\n",
    "ax.set_title('DAOFIND sharpness')\n",
    "\n",
    "ax = fig.add_subplot(gs[0, 1])\n",
    "c = ax.tricontourf(sources['xcentroid'], sources['ycentroid'], sources['roundness1'])\n",
    "plt.colorbar(c, ax=ax)\n",
    "ax.set_title('DAOFIND roundness1')\n",
    "\n",
    "ax = fig.add_subplot(gs[1, 0])\n",
    "c = ax.tricontourf(ph.xcentroid, ph.ycentroid, ph.ellipticity.value)\n",
    "plt.colorbar(c, ax=ax)\n",
    "ax.set_title('ApertureStats ellipticity')\n",
    "\n",
    "ax = fig.add_subplot(gs[1, 1])\n",
    "c = ax.tricontourf(ph.xcentroid, ph.ycentroid, ph.fwhm.value)\n",
    "plt.colorbar(c, ax=ax)\n",
    "ax.set_title('ApertureStats FWHM')\n",
    "\n",
    "plt.show()"
   ]
  }
 ],
 "metadata": {
  "kernelspec": {
   "display_name": ".venv",
   "language": "python",
   "name": "python3"
  },
  "language_info": {
   "codemirror_mode": {
    "name": "ipython",
    "version": 3
   },
   "file_extension": ".py",
   "mimetype": "text/x-python",
   "name": "python",
   "nbconvert_exporter": "python",
   "pygments_lexer": "ipython3",
   "version": "3.12.3"
  }
 },
 "nbformat": 4,
 "nbformat_minor": 2
}
