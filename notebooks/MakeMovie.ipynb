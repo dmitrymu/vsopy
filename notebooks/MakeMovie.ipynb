{
 "cells": [
  {
   "cell_type": "code",
   "execution_count": null,
   "metadata": {},
   "outputs": [],
   "source": [
    "import os\n",
    "import sys\n",
    "module_path = os.path.abspath(os.path.join('.'))\n",
    "if module_path not in sys.path:\n",
    "    sys.path.append(module_path)\n",
    "#from vsopy import util, data\n",
    "import astropy.units as u\n"
   ]
  },
  {
   "cell_type": "code",
   "execution_count": null,
   "metadata": {},
   "outputs": [],
   "source": [
    "import vsopy.util\n",
    "import vsopy.data\n",
    "from astropy.table import QTable\n",
    "\n",
    "OBJ_NAME='SZ Lyn'\n",
    "SESSION_TAG='20250122'\n",
    "IMAGE_ROOT = '/srv/public/img'\n",
    "WORK_ROOT = '/srv/public'\n",
    "\n",
    "session = vsopy.util.Session(tag=SESSION_TAG, name=OBJ_NAME)\n",
    "layout = vsopy.util.WorkLayout(WORK_ROOT)\n",
    "session_layout = layout.get_session(session)\n",
    "IMAGE_DIR = vsopy.util.ImageLayout(IMAGE_ROOT).get_images(session).lights_dir / 'V'\n",
    "sd = vsopy.data.StarData(layout.charts_dir)\n",
    "\n",
    "movie_dir = session_layout.root_dir / 'movie'\n",
    "if not movie_dir.exists():\n",
    "    movie_dir.mkdir(parents=True)\n",
    "\n",
    "chart = sd.get_chart(OBJ_NAME, 60*u.arcmin)\n",
    "stars = QTable(dict(auid = [chart.meta['auid']], sky_centroid= [chart.meta['radec2000']]))\n",
    "stars"
   ]
  },
  {
   "cell_type": "code",
   "execution_count": null,
   "metadata": {},
   "outputs": [],
   "source": [
    "%%capture\n",
    "import ccdproc as ccdp\n",
    "import vsopy.reduce\n",
    "from astropy.visualization import AsinhStretch, ImageNormalize, MinMaxInterval\n",
    "import matplotlib.pyplot as plt\n",
    "from astropy.nddata import Cutout2D\n",
    "import plot as vp\n",
    "from astropy.coordinates import SkyCoord\n",
    "from astropy.time import Time\n",
    "import vsopy.phot\n",
    "\n",
    "ifc = ccdp.ImageFileCollection(IMAGE_DIR)\n",
    "alpha = 0.01\n",
    "\n",
    "interval = MinMaxInterval()\n",
    "\n",
    "for f in ifc.summary['file']:\n",
    "    image = vsopy.reduce.load_and_solve(ifc.location / f, session_layout.solved_dir)\n",
    "    fig = plt.figure(figsize=(10.24, 10.24))\n",
    "\n",
    "    center = vsopy.phot.measure_photometry(image, stars, 5*u.arcsec, (10*u.arcsec, 15*u.arcsec))['sky_centroid'][0]\n",
    "#    center = SkyCoord(ra=image.wcs.wcs.crval[0]*u.deg, dec=image.wcs.wcs.crval[1]*u.deg)\n",
    "    cutout =  Cutout2D(image.data,\n",
    "                       center,\n",
    "                       (800, 1280),\n",
    "                       wcs=image.wcs)\n",
    "    #vmin, vmax = interval.get_limits(cutout.data)\n",
    "    #print(vmin, vmax)\n",
    "    ax = plt.subplot(projection=cutout.wcs)\n",
    "    vmin, vmax = 1000, 65535\n",
    "    norm = ImageNormalize(vmin=vmin, vmax=vmax, stretch=AsinhStretch(alpha))\n",
    "    ax.imshow(cutout.data, origin='lower', norm=norm, cmap='gray')\n",
    "    d = Time(image.header['DATE-OBS'])\n",
    "    ax.text(20, 750, f'JD2000: {d.to_value('jd'):.3f}', color='white')\n",
    "\n",
    "    ax.set_axis_off()\n",
    "    ax.set_position([0, 0, 1, 1])\n",
    "    #plt.show()\n",
    "    plt.savefig(movie_dir / (f + '.jpg'), bbox_inches='tight', facecolor='black')\n"
   ]
  },
  {
   "cell_type": "code",
   "execution_count": null,
   "metadata": {},
   "outputs": [],
   "source": [
    "\n",
    "image.header"
   ]
  }
 ],
 "metadata": {
  "kernelspec": {
   "display_name": ".venv",
   "language": "python",
   "name": "python3"
  },
  "language_info": {
   "codemirror_mode": {
    "name": "ipython",
    "version": 3
   },
   "file_extension": ".py",
   "mimetype": "text/x-python",
   "name": "python",
   "nbconvert_exporter": "python",
   "pygments_lexer": "ipython3",
   "version": "3.13.3"
  }
 },
 "nbformat": 4,
 "nbformat_minor": 2
}
