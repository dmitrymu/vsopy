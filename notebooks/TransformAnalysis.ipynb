{
 "cells": [
  {
   "cell_type": "code",
   "execution_count": null,
   "metadata": {},
   "outputs": [],
   "source": [
    "import os\n",
    "import sys\n",
    "module_path = os.path.abspath(os.path.join('../src'))\n",
    "if module_path not in sys.path:\n",
    "    sys.path.append(module_path)\n"
   ]
  },
  {
   "cell_type": "code",
   "execution_count": null,
   "metadata": {},
   "outputs": [],
   "source": [
    "import vso.util\n",
    "import vso.data\n",
    "\n",
    "OBJ_NAME='SZ Lyn'\n",
    "SESSION_TAG='2025/20250227'\n",
    "# OBJ_NAME='RZ Lyr'\n",
    "# SESSION_TAG='20240827'\n",
    "IMAGE_ROOT = '/srv/public/img'\n",
    "WORK_ROOT = '/srv/public'\n",
    "\n",
    "session = vso.util.Session(tag=SESSION_TAG, name=OBJ_NAME)\n",
    "layout = vso.util.WorkLayout(WORK_ROOT)\n",
    "session_layout = layout.get_session(session)\n",
    "settings = vso.util.Settings(session_layout.settings_file_path)"
   ]
  },
  {
   "cell_type": "code",
   "execution_count": null,
   "metadata": {},
   "outputs": [],
   "source": [
    "from astropy.table import QTable\n",
    "ph = QTable.read(session_layout.root_dir / \"photometry.ecsv\")\n",
    "stars = set(ph['auid'])\n",
    "stars.remove('000-BBP-158')"
   ]
  },
  {
   "cell_type": "code",
   "execution_count": null,
   "metadata": {},
   "outputs": [],
   "source": [
    "tv = QTable(ph[ph['auid'] == '000-BBP-158']['time', 'airmass', 'instr B', 'instr V'])\n"
   ]
  },
  {
   "cell_type": "code",
   "execution_count": null,
   "metadata": {},
   "outputs": [],
   "source": [
    "#%matplotlib ipympl\n",
    "\n",
    "import matplotlib.pyplot as plt\n",
    "import numpy as np\n",
    "from scipy import stats as sst\n",
    "\n",
    "band = 'V'\n",
    "\n",
    "fig = plt.figure(figsize=(8.00, 6.00))\n",
    "gs = fig.add_gridspec(1, 1)\n",
    "\n",
    "ax = fig.add_subplot(gs[0, 0])\n",
    "for auid in stars:\n",
    "    instr = f'instr {band}'\n",
    "    t = QTable(ph[ph['auid'] == auid]['time', 'airmass', 'instr B', 'instr V'])\n",
    "    ax.plot(t['airmass'], t['instr B']['mag'], '.', label=auid)\n",
    "    ax.set_ylabel(f'{band[0].lower()}')\n",
    "    ax.set_xlabel('Air mass')\n",
    "ax.legend()\n",
    "\n",
    "plt.tight_layout()\n",
    "plt.show()"
   ]
  }
 ],
 "metadata": {
  "kernelspec": {
   "display_name": ".venv",
   "language": "python",
   "name": "python3"
  },
  "language_info": {
   "codemirror_mode": {
    "name": "ipython",
    "version": 3
   },
   "file_extension": ".py",
   "mimetype": "text/x-python",
   "name": "python",
   "nbconvert_exporter": "python",
   "pygments_lexer": "ipython3",
   "version": "3.12.3"
  }
 },
 "nbformat": 4,
 "nbformat_minor": 2
}
