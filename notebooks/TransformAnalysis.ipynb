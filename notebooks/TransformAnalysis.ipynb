{
 "cells": [
  {
   "cell_type": "code",
   "execution_count": null,
   "metadata": {},
   "outputs": [],
   "source": [
    "import os\n",
    "import sys\n",
    "module_path = os.path.abspath(os.path.join('../src'))\n",
    "if module_path not in sys.path:\n",
    "    sys.path.append(module_path)\n"
   ]
  },
  {
   "cell_type": "code",
   "execution_count": null,
   "metadata": {},
   "outputs": [],
   "source": [
    "import vso.util\n",
    "import vso.data\n",
    "\n",
    "OBJ_NAME='SA20'\n",
    "SESSION_TAG='2024/20241003'\n",
    "IMAGE_ROOT = '/srv/public/img'\n",
    "WORK_ROOT = '/srv/public'\n",
    "\n",
    "session = vso.util.Session(tag=SESSION_TAG, name=OBJ_NAME)\n",
    "session = vso.util.Session(tag=SESSION_TAG, name=OBJ_NAME)\n",
    "layout = vso.util.WorkLayout(WORK_ROOT)\n",
    "session_layout = layout.get_session(session)\n",
    "settings = vso.util.Settings(session_layout.settings_file_path)"
   ]
  },
  {
   "cell_type": "code",
   "execution_count": null,
   "metadata": {},
   "outputs": [],
   "source": [
    "import vso.phot\n",
    "\n",
    "BANDS = ('B', 'V')\n",
    "provider = vso.phot.BatchDataProvider(session_layout)\n",
    "data = provider.batch_and_sequence_band_pair(BANDS)\n",
    "\n",
    "data['C'] = data[BANDS[0]]['mag'] - data[BANDS[1]]['mag']\n",
    "data[f'd{BANDS[0]}'] = data[BANDS[0]]['mag'] - data[f'instr {BANDS[0]}']['mag']\n",
    "data[f'd{BANDS[1]}'] = data[BANDS[1]]['mag'] - data[f'instr {BANDS[1]}']['mag']\n",
    "batched = data.group_by('batch_id').groups\n",
    "batch = batched[0]\n",
    "# & (data['auid'] != '000-BMM-136') & (data['auid'] != '000-BMM-152')\n",
    "\n",
    "band = 'B'\n",
    "batch\n"
   ]
  },
  {
   "cell_type": "code",
   "execution_count": null,
   "metadata": {},
   "outputs": [],
   "source": [
    "from scipy import stats as sst\n",
    "r1 = sst.linregress(batch[band]['mag'], batch[f'instr {band}']['mag'])\n",
    "r1\n"
   ]
  },
  {
   "cell_type": "code",
   "execution_count": null,
   "metadata": {},
   "outputs": [],
   "source": [
    "ci = batch['C']\n",
    "dA = batch[f'd{band}']\n",
    "rC = sst.linregress(ci,dA )\n",
    "# T=rC.slope\n",
    "[ sst.linregress(batch['C'], batch[f'd{band}']).slope for batch in batched]\n",
    "# ci, dA"
   ]
  },
  {
   "cell_type": "code",
   "execution_count": null,
   "metadata": {},
   "outputs": [],
   "source": [
    "sst.linregress(batch[band]['mag'], batch[f'instr {band}']['mag'] + rC.slope*batch['C'])\n"
   ]
  },
  {
   "cell_type": "code",
   "execution_count": null,
   "metadata": {},
   "outputs": [],
   "source": [
    "\n",
    "import matplotlib.pyplot as plt\n",
    "import numpy as np\n",
    "\n",
    "fig = plt.figure(figsize=(12.80, 6.00), layout=\"constrained\")\n",
    "gs = fig.add_gridspec(1, 2)\n",
    "\n",
    "ax = fig.add_subplot(gs[0, 0])\n",
    "for star in batch:\n",
    "    ax.scatter(star[band]['mag'], star[f'instr {band}']['mag'], label=star['auid'])\n",
    "ax.set_xlabel(band)\n",
    "ax.set_ylabel(band.lower())\n",
    "\n",
    "ax = fig.add_subplot(gs[0, 1])\n",
    "for star in batch:\n",
    "    ax.scatter(star['C'], star[f'd{band}'], label=star['auid'])\n",
    "ax.set_xlabel(f'{BANDS[0]} - {BANDS[1]}')\n",
    "ax.set_ylabel(f'{band} - {band.lower()}')\n",
    "\n",
    "fig.legend(loc='outside right')\n",
    "\n",
    "plt.show()"
   ]
  }
 ],
 "metadata": {
  "kernelspec": {
   "display_name": ".venv",
   "language": "python",
   "name": "python3"
  },
  "language_info": {
   "codemirror_mode": {
    "name": "ipython",
    "version": 3
   },
   "file_extension": ".py",
   "mimetype": "text/x-python",
   "name": "python",
   "nbconvert_exporter": "python",
   "pygments_lexer": "ipython3",
   "version": "3.13.2"
  }
 },
 "nbformat": 4,
 "nbformat_minor": 2
}
