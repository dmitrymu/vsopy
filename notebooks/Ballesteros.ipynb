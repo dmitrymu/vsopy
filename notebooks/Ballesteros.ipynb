{
 "cells": [
  {
   "cell_type": "markdown",
   "metadata": {},
   "source": [
    "temperature from B-V color index"
   ]
  },
  {
   "cell_type": "code",
   "execution_count": null,
   "metadata": {},
   "outputs": [],
   "source": [
    "def ballesteros(bv):\n",
    "    return 4600 * (1 / (.92 * bv + 1.7) + 1 / (.92 * bv + 0.62))"
   ]
  },
  {
   "cell_type": "code",
   "execution_count": null,
   "metadata": {},
   "outputs": [],
   "source": [
    "list(map(ballesteros, [.2, .4]))"
   ]
  },
  {
   "cell_type": "markdown",
   "metadata": {},
   "source": [
    "$$\n",
    "M = a \\log{P} + b\n",
    "$$"
   ]
  },
  {
   "cell_type": "code",
   "execution_count": null,
   "metadata": {},
   "outputs": [],
   "source": [
    "10 ** 1.25"
   ]
  },
  {
   "cell_type": "code",
   "execution_count": null,
   "metadata": {},
   "outputs": [],
   "source": [
    "import math as m\n",
    "def d_scuti(P):\n",
    "    return -3.24 * m.log10(P) - 1.64\n",
    "\n",
    "def d_scuti_1(P):\n",
    "    return -2.68 * m.log10(P) - 1.35\n",
    "\n",
    "def d_scuti_r(P):\n",
    "    return -3.01 * m.log10(P) - 1.4\n",
    "\n",
    "def d_scuti_o(P):\n",
    "    return -2.94 * m.log10(P) - 1.34\n",
    "\n",
    "M = d_scuti_o(.12)\n",
    "d = 10 ** ((9.58 - M)/5 + 1)\n",
    "M, d"
   ]
  },
  {
   "cell_type": "markdown",
   "metadata": {},
   "source": [
    "$$\n",
    "d = 10^{0.2(m-M)+ 1 }\n",
    "$$"
   ]
  }
 ],
 "metadata": {
  "kernelspec": {
   "display_name": ".venv",
   "language": "python",
   "name": "python3"
  },
  "language_info": {
   "codemirror_mode": {
    "name": "ipython",
    "version": 3
   },
   "file_extension": ".py",
   "mimetype": "text/x-python",
   "name": "python",
   "nbconvert_exporter": "python",
   "pygments_lexer": "ipython3",
   "version": "3.12.3"
  }
 },
 "nbformat": 4,
 "nbformat_minor": 2
}
