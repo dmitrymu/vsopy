{
 "cells": [
  {
   "cell_type": "code",
   "execution_count": null,
   "metadata": {},
   "outputs": [],
   "source": [
    "import os\n",
    "import sys\n",
    "module_path = os.path.abspath(os.path.join('../src'))\n",
    "if module_path not in sys.path:\n",
    "    sys.path.append(module_path)\n",
    "#from vsopy import util, data\n",
    "import astropy.units as u\n",
    "from SetupSession import use_dark_theme\n"
   ]
  },
  {
   "cell_type": "code",
   "execution_count": null,
   "metadata": {},
   "outputs": [],
   "source": [
    "import vsopy.util\n",
    "import vsopy.data\n",
    "\n",
    "OBJ_NAME='SZ Lyn'\n",
    "SESSION_TAG='2025/20250126'\n",
    "IMAGE_ROOT = '/srv/public/img'\n",
    "WORK_ROOT = '/srv/public'\n",
    "\n",
    "session = vsopy.util.Session(tag=SESSION_TAG, name=OBJ_NAME)\n",
    "layout = vsopy.util.WorkLayout(WORK_ROOT)\n",
    "session_layout = layout.get_session(session)\n",
    "IMAGE_DIR = vsopy.util.ImageLayout(IMAGE_ROOT).get_images(session).lights_dir / 'V'\n",
    "sd = vsopy.data.StarData(layout.charts_dir)"
   ]
  },
  {
   "cell_type": "code",
   "execution_count": null,
   "metadata": {},
   "outputs": [],
   "source": [
    "import ccdproc as ccdp\n",
    "import vsopy.reduce\n",
    "\n",
    "ifc = ccdp.ImageFileCollection(IMAGE_DIR)\n",
    "path = IMAGE_DIR / ifc.summary['file'][0]\n",
    "image  = vsopy.reduce.load_and_solve(path, session_layout.solved_dir)\n",
    "matcher = vsopy.reduce.CalibrationMatcher(layout.calibr_dir, temp_tolerance=2*u.K)\n",
    "cal = matcher.match(image.header)\n",
    "reduced = vsopy.reduce.calibrate_image(image,\n",
    "                        dark=cal.dark,\n",
    "                        flat=cal.flat)\n"
   ]
  },
  {
   "cell_type": "code",
   "execution_count": null,
   "metadata": {},
   "outputs": [],
   "source": [
    "from astropy.stats import sigma_clipped_stats\n",
    "from photutils.detection import DAOStarFinder\n",
    "from astropy.coordinates import SkyCoord\n",
    "import vsopy.phot\n",
    "from astropy.table import QTable\n",
    "import numpy as np\n",
    "import matplotlib.pyplot as plt\n",
    "from astropy.visualization import AsinhStretch, ImageNormalize, MinMaxInterval\n",
    "from matplotlib.patches import Circle, RegularPolygon, Ellipse\n"
   ]
  },
  {
   "cell_type": "code",
   "execution_count": null,
   "metadata": {},
   "outputs": [],
   "source": [
    "detected = QTable.read(session_layout.root_dir / 'detected_stars.ecsv')\n",
    "np.max(detected['count'])\n",
    "detected"
   ]
  },
  {
   "cell_type": "code",
   "execution_count": null,
   "metadata": {},
   "outputs": [],
   "source": [
    "%matplotlib ipympl\n",
    "from astropy.visualization import AsinhStretch, LogStretch, ImageNormalize, MinMaxInterval\n",
    "from matplotlib import cm\n",
    "\n",
    "cmap = cm.get_cmap('gray').reversed()\n",
    "\n",
    "alpha = 0.001\n",
    "interval = MinMaxInterval()\n",
    "fig = plt.figure(figsize=(16.00, 16.00))\n",
    "ax = plt.subplot(projection=reduced.wcs)\n",
    "mean, median, std = sigma_clipped_stats(reduced.data, sigma=3.0)\n",
    "vmin, vmax = interval.get_limits(reduced.data)\n",
    "norm = ImageNormalize(vmin=mean+2*std, vmax=vmax, stretch=LogStretch(10000))\n",
    "ax.imshow(reduced.data, origin='lower', norm=norm, cmap=cmap)\n",
    "for star in detected:\n",
    "    r = 10 #2*(20 - t['M']['mag'].value)\n",
    "    c = reduced.wcs.world_to_pixel(star['radec2000'])\n",
    "    ax.add_patch(Circle(c, r, color='red', alpha=.5, fill=False))\n",
    "# for s in cat_stars:\n",
    "#     r = 2*(20 - s['Vmag'])\n",
    "#     c = reduced.wcs.world_to_pixel(s['radec2000'])\n",
    "#     ax.add_patch(Circle(c, r, color='blue', alpha=.5))\n",
    "# for s in vars:\n",
    "#     r = 40\n",
    "#     c = reduced.wcs.world_to_pixel(s['radec2000'])\n",
    "#     ax.add_patch(RegularPolygon(c, 4, radius=r, color='yellow', fill=False, alpha=.5))\n",
    "# for s in cat_gals:\n",
    "#     r = 2*(20 - s['Vmag'])\n",
    "#     c = reduced.wcs.world_to_pixel(s['radec2000'])\n",
    "#     ax.add_patch(Circle(c, r, color='yellow', alpha=.5))\n",
    "plt.show()\n"
   ]
  },
  {
   "cell_type": "markdown",
   "metadata": {},
   "source": []
  }
 ],
 "metadata": {
  "kernelspec": {
   "display_name": ".venv",
   "language": "python",
   "name": "python3"
  },
  "language_info": {
   "codemirror_mode": {
    "name": "ipython",
    "version": 3
   },
   "file_extension": ".py",
   "mimetype": "text/x-python",
   "name": "python",
   "nbconvert_exporter": "python",
   "pygments_lexer": "ipython3",
   "version": "3.13.2"
  }
 },
 "nbformat": 4,
 "nbformat_minor": 2
}
