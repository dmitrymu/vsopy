{
 "cells": [
  {
   "cell_type": "markdown",
   "metadata": {},
   "source": [
    "# Prepare Session for Batch Processing"
   ]
  },
  {
   "cell_type": "code",
   "execution_count": null,
   "metadata": {},
   "outputs": [],
   "source": [
    "import os\n",
    "import sys\n",
    "module_path = os.path.abspath(os.path.join('../src'))\n",
    "if module_path not in sys.path:\n",
    "    sys.path.append(module_path)\n",
    "#from vso import util, data\n",
    "import astropy.units as u"
   ]
  },
  {
   "cell_type": "markdown",
   "metadata": {},
   "source": [
    "Set parameters: object and tag name, image and session roots"
   ]
  },
  {
   "cell_type": "code",
   "execution_count": null,
   "metadata": {
    "tags": [
     "parameters"
    ]
   },
   "outputs": [],
   "source": [
    "import vso.util\n",
    "import vso.data\n",
    "\n",
    "OBJ_NAME='SA38'\n",
    "SESSION_TAG='20240731'\n",
    "IMAGE_ROOT = '/srv/public/img'\n",
    "WORK_ROOT = '/srv/public'\n",
    "\n",
    "session = vso.util.Session(tag=SESSION_TAG, name=OBJ_NAME)\n",
    "layout = vso.util.WorkLayout(WORK_ROOT)\n",
    "session_layout = layout.get_session(session)\n",
    "IMAGE_DIR = vso.util.ImageLayout(IMAGE_ROOT).get_images(session).lights_dir\n",
    "sd = vso.data.StarData(layout.charts_dir)"
   ]
  },
  {
   "cell_type": "markdown",
   "metadata": {},
   "source": [
    "Preview images"
   ]
  },
  {
   "cell_type": "code",
   "execution_count": null,
   "metadata": {},
   "outputs": [],
   "source": [
    "from SetupSession import ImagePreview\n",
    "\n",
    "preview = ImagePreview(IMAGE_DIR, sd, session_layout.solved_dir)\n",
    "preview.run()\n"
   ]
  },
  {
   "cell_type": "markdown",
   "metadata": {},
   "source": [
    "Adjust photometric apertures"
   ]
  },
  {
   "cell_type": "code",
   "execution_count": null,
   "metadata": {},
   "outputs": [],
   "source": [
    "from photutils.aperture import (ApertureStats,\n",
    "                                CircularAperture,\n",
    "                                CircularAnnulus)\n",
    "from astropy.nddata import Cutout2D\n",
    "\n",
    "TILE_SIZE=40\n",
    "\n",
    "size=(TILE_SIZE, TILE_SIZE)\n",
    "\n",
    "image = preview.image\n",
    "cutouts =  list([Cutout2D(image.data,\n",
    "                    pos,\n",
    "                    size,\n",
    "                    image.wcs) for pos in preview.chart['radec2000']])\n",
    "\n",
    "\n",
    "\n"
   ]
  },
  {
   "cell_type": "code",
   "execution_count": null,
   "metadata": {},
   "outputs": [],
   "source": [
    "\n",
    "pix_coord = image.wcs.world_to_pixel(preview.chart['radec2000'])\n",
    "apr = CircularAperture(zip(*pix_coord), r=10)\n",
    "ap_stats = ApertureStats(image, apr)\n"
   ]
  },
  {
   "cell_type": "code",
   "execution_count": null,
   "metadata": {},
   "outputs": [],
   "source": [
    "from contextlib import contextmanager\n",
    "import matplotlib.pyplot as plt\n",
    "from astropy.visualization import AsinhStretch, ImageNormalize, MinMaxInterval\n",
    "from matplotlib.patches import Circle\n",
    "import ipywidgets as widgets\n",
    "from IPython.display import display\n",
    "\n",
    "\n",
    "def iterate_grid(items, grid, fig=None):\n",
    "    for item, n in zip(items, range(len(items))):\n",
    "        row = n // grid.ncols\n",
    "        col = n % grid.ncols\n",
    "        if fig is None:\n",
    "            yield (item, grid[row, col])\n",
    "        else:\n",
    "            yield (item, fig.add_subplot(grid[row, col]))\n",
    "\n",
    "@contextmanager\n",
    "def grid_figure(items, ncols=4, width=6.40):\n",
    "    nrows = (len(items)+1) // ncols + 1\n",
    "    fig = plt.figure(figsize=(width, nrows * width / ncols))\n",
    "    gs = fig.add_gridspec(nrows, ncols)\n",
    "    try:\n",
    "        yield fig, iterate_grid(items, gs)\n",
    "    finally:\n",
    "        plt.tight_layout()\n",
    "        plt.show()\n",
    "\n",
    "def default_image_normalizer(data):\n",
    "    interval = MinMaxInterval()\n",
    "    vmin, vmax = interval.get_limits(data)\n",
    "    return ImageNormalize(vmin=vmin, vmax=vmax, stretch=AsinhStretch())\n",
    "\n",
    "\n",
    "def plot_cutout(fig, cutout, position,\n",
    "                subplot=None,\n",
    "                norm=default_image_normalizer):\n",
    "\n",
    "    ax = plt.subplot(projection=cutout.wcs) if subplot is None else fig.add_subplot(subplot, projection=cutout.wcs)\n",
    "    ax.imshow(cutout.data, origin='lower', norm=norm(cutout.data))\n",
    "    ax.coords[0].set_axislabel(position.ra.to_string(u.hour))\n",
    "    ax.coords[1].set_axislabel(\"\")\n",
    "    ax.coords[0].set_ticks([] * u.degree)\n",
    "    ax.coords[1].set_ticks([] * u.degree)\n",
    "    return ax\n",
    "\n",
    "def circle(ax, center, radius, **kwargs):\n",
    "    ax.add_patch(Circle(center, radius=radius, **kwargs))\n",
    "\n",
    "NUM_COL=6\n",
    "\n",
    "wgt_enable = [widgets.Checkbox(value=True, description=star['auid'], indent=False) for star in preview.chart]\n",
    "stars_disabled = set()\n",
    "def cb_updated(event):\n",
    "    owner = event['owner']\n",
    "    star = owner.description\n",
    "    if owner.value:\n",
    "        stars_disabled.remove(star)\n",
    "    else:\n",
    "        stars_disabled.add(star)\n",
    "\n",
    "for wgt in wgt_enable:\n",
    "    wgt.observe(cb_updated, 'value')\n",
    "\n",
    "wgt_grid = widgets.GridBox(wgt_enable, layout=widgets.Layout(\n",
    "    grid_template_columns=f\"repeat({NUM_COL}, {1/NUM_COL:.2%})\"))\n",
    "#    grid_template_columns=f\"repeat({NUM_COL}, auto\", width='90%'))\n",
    "\n",
    "def plot_apertures(r_ap, r_ann):\n",
    "    display(wgt_grid)\n",
    "    r_in, r_out = r_ann\n",
    "    with grid_figure(list(zip(cutouts, preview.chart, ap_stats.sky_centroid)),\n",
    "                    ncols=NUM_COL, width=10.24) as (fig, cells):\n",
    "        fig.suptitle(f\"{image.header['object']}, {preview.band_}, \"\n",
    "                        f\"UT {image.header['date-obs'].replace('T', ' ')}\")\n",
    "        for (cutout, star, centroid), cell in cells:\n",
    "            ax = plot_cutout(fig, cutout, star['radec2000'], subplot=cell)\n",
    "            ax.set_title(star['auid'])\n",
    "            c = cutout.wcs.world_to_pixel(centroid)\n",
    "            circle(ax, c, r_ap,\n",
    "                linewidth=2, edgecolor='orange', facecolor='none', alpha=.5)\n",
    "            circle(ax, c, r_in,\n",
    "                linewidth=2, edgecolor='orange', facecolor='none', alpha=.5)\n",
    "            circle(ax, c, r_out,\n",
    "                linewidth=2, edgecolor='orange', facecolor='none', alpha=.5)\n",
    "            if star['auid'] in stars_disabled:\n",
    "                ax.plot([0, TILE_SIZE], [0, TILE_SIZE], color='red')\n",
    "                ax.plot([TILE_SIZE, 0], [0, TILE_SIZE], color='red')\n",
    "\n",
    "wgt_ap = widgets.FloatSlider(value=5, min=1, max=10, step=.1, desciption=\"Aperture\")\n",
    "wgt_ann = widgets.FloatRangeSlider(value=(10, 15), min=1, max=40, step=.1, desciption=\"Annulus\")\n",
    "\n",
    "def ap_updated(*args):\n",
    "    if wgt_ann.value[0] < wgt_ap.value:\n",
    "        d_ann = wgt_ann.value[1] - wgt_ann.value[0]\n",
    "        wgt_ann.value = (wgt_ap.value + 1, wgt_ap.value + 1  + d_ann)\n",
    "    wgt_ann.min  = wgt_ap.value\n",
    "\n",
    "wgt_ap.observe(ap_updated, 'value')\n",
    "\n",
    "widgets.interact_manual(plot_apertures,\n",
    "                r_ap=wgt_ap,\n",
    "                r_ann=wgt_ann)\n"
   ]
  },
  {
   "cell_type": "markdown",
   "metadata": {},
   "source": []
  }
 ],
 "metadata": {
  "kernelspec": {
   "display_name": ".venv",
   "language": "python",
   "name": "python3"
  },
  "language_info": {
   "codemirror_mode": {
    "name": "ipython",
    "version": 3
   },
   "file_extension": ".py",
   "mimetype": "text/x-python",
   "name": "python",
   "nbconvert_exporter": "python",
   "pygments_lexer": "ipython3",
   "version": "3.12.3"
  }
 },
 "nbformat": 4,
 "nbformat_minor": 2
}
