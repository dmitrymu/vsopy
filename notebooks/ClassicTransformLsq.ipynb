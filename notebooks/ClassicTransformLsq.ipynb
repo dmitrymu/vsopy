{
 "cells": [
  {
   "cell_type": "code",
   "execution_count": null,
   "metadata": {},
   "outputs": [],
   "source": [
    "import os\n",
    "import sys\n",
    "module_path = os.path.abspath(os.path.join('../src'))\n",
    "if module_path not in sys.path:\n",
    "    sys.path.append(module_path)\n"
   ]
  },
  {
   "cell_type": "markdown",
   "metadata": {},
   "source": [
    "# Build Classic Transform Using Least Squares\n",
    "\n",
    "Use standard field to calculate photometric transform by classic method (\"slope of slopes\")"
   ]
  },
  {
   "cell_type": "code",
   "execution_count": null,
   "metadata": {},
   "outputs": [],
   "source": [
    "import vso.util\n",
    "import vso.data\n",
    "import vso.phot\n",
    "import numpy as np\n",
    "\n",
    "IMAGE_ROOT = '/srv/public/img'\n",
    "WORK_ROOT = '/srv/public'\n",
    "\n",
    "layout = vso.util.WorkLayout(WORK_ROOT)\n"
   ]
  },
  {
   "cell_type": "markdown",
   "metadata": {},
   "source": [
    "Select night, list of objects, and band pair to analyze"
   ]
  },
  {
   "cell_type": "code",
   "execution_count": null,
   "metadata": {},
   "outputs": [],
   "source": [
    "OBJECTS = ['SA20', 'SA38', 'SA41']\n",
    "SESSION_TAG='2024/20241006'\n",
    "\n",
    "# OBJECTS = ['SZ Lyn']\n",
    "# SESSION_TAG='20250126'\n",
    "\n",
    "BANDS = ('B', 'V')\n"
   ]
  },
  {
   "cell_type": "markdown",
   "metadata": {},
   "source": [
    "Build input data for regression"
   ]
  },
  {
   "cell_type": "code",
   "execution_count": null,
   "metadata": {},
   "outputs": [],
   "source": [
    "import astropy.units as u\n",
    "from vso.phot import ValErr, ValErrDtype, MagErrDtype\n",
    "from scipy import stats as sst\n",
    "from astropy.table import vstack\n",
    "from vso.phot import ClassicDiffTransform, build_classic_regression_input\n",
    "from vso.util import MagErr, ValErr, MagErrDtype, ValErrDtype\n",
    "\n",
    "\n",
    "\n",
    "source = vstack([vso.phot.build_classic_regression_input(layout.get_session(vso.util.Session(tag=SESSION_TAG, name=obj)), BANDS)\n",
    "               for obj in OBJECTS])\n",
    "len(source)"
   ]
  },
  {
   "cell_type": "code",
   "execution_count": null,
   "metadata": {},
   "outputs": [],
   "source": [
    "source['err'] = np.sqrt(source['dB']['err']**2 + source['dV']['err']**2 + source['dC']['err']**2 \\\n",
    "                        + source['instr dB']['err']**2 + source['instr dV']['err']**2)\n",
    "source.sort('err')\n",
    "data_limit = int(len(source)*.75)\n",
    "data = source[0:data_limit]\n",
    "len(data), np.min(data['err']), np.max(data['err'])"
   ]
  },
  {
   "cell_type": "markdown",
   "metadata": {},
   "source": [
    "Calculate classic transform using ordinary least squares"
   ]
  },
  {
   "cell_type": "code",
   "execution_count": null,
   "metadata": {},
   "outputs": [],
   "source": [
    "import numpy as np\n",
    "from collections import namedtuple\n",
    "\n",
    "\n",
    "tr1 = vso.phot.calc_classic_diff_transform(data, BANDS)\n",
    "tr1"
   ]
  },
  {
   "cell_type": "markdown",
   "metadata": {},
   "source": [
    "Calculate classic transform using weighted least squares"
   ]
  },
  {
   "cell_type": "code",
   "execution_count": null,
   "metadata": {},
   "outputs": [],
   "source": [
    "\n",
    "tr2 = vso.phot.calc_classic_diff_transform_weighted(data, BANDS)\n",
    "tr2"
   ]
  },
  {
   "cell_type": "markdown",
   "metadata": {},
   "source": [
    "Calculate residuals and analyze QQ plots"
   ]
  },
  {
   "cell_type": "code",
   "execution_count": null,
   "metadata": {},
   "outputs": [],
   "source": [
    "import matplotlib.pyplot as plt\n",
    "\n",
    "def calculate_residual(data, bands, tr):\n",
    "    A = np.array([data['dC']['mag'], -data['airmass']['val'] * data['dC']['mag']]).T\n",
    "    res1 = np.dot(A, np.array([tr.Ta.val, tr.ka.val]) ) \\\n",
    "          - data[f'd{bands[0]}']['mag'].value + data[f'instr d{bands[0]}']['mag'].value\n",
    "    res2 = np.dot(A, np.array([tr.Tb.val, tr.kb.val]) ) \\\n",
    "          - data[f'd{bands[1]}']['mag'].value + data[f'instr d{bands[1]}']['mag'].value\n",
    "    return res1, res2\n",
    "\n",
    "res11, res12 = calculate_residual(source, BANDS, tr1)\n",
    "res21, res22 = calculate_residual(source, BANDS, tr2)\n",
    "\n",
    "\n",
    "fig = plt.figure(figsize=(12.80, 10.24))\n",
    "gs = fig.add_gridspec(2, 2)\n",
    "\n",
    "ax = fig.add_subplot(gs[0, 0])\n",
    "sst.probplot(res11, dist=\"norm\", plot=ax)\n",
    "ax.set_title(BANDS[0])\n",
    "\n",
    "ax = fig.add_subplot(gs[0, 1])\n",
    "sst.probplot(res12, dist=\"norm\", plot=ax)\n",
    "ax.set_title(BANDS[1])\n",
    "\n",
    "ax = fig.add_subplot(gs[1, 0])\n",
    "sst.probplot(res21, dist=\"norm\", plot=ax)\n",
    "ax.set_title(BANDS[0] + ' weighted')\n",
    "\n",
    "ax = fig.add_subplot(gs[1, 1])\n",
    "sst.probplot(res22, dist=\"norm\", plot=ax)\n",
    "ax.set_title(BANDS[1] + ' weighted')\n",
    "\n",
    "plt.tight_layout()\n",
    "plt.show()\n"
   ]
  },
  {
   "cell_type": "code",
   "execution_count": null,
   "metadata": {},
   "outputs": [],
   "source": []
  },
  {
   "cell_type": "code",
   "execution_count": null,
   "metadata": {},
   "outputs": [],
   "source": [
    "%matplotlib ipympl\n",
    "import matplotlib.pyplot as plt\n",
    "\n",
    "fig = plt.figure(figsize=(8.00, 6.00))\n",
    "gs = fig.add_gridspec(1, 1)\n",
    "\n",
    "band = BANDS[0]\n",
    "ax = fig.add_subplot(gs[0, 0], projection='3d')\n",
    "ax.set_title(BANDS[0])\n",
    "sc = ax.scatter(source['dC']['mag'], source[f'd{band}']['mag'], res11, c=source['airmass']['val'], marker='.')\n",
    "ax.set_xlabel('dC')\n",
    "ax.set_ylabel(f'd{band}')\n",
    "ax.set_zlabel('residue')\n",
    "\n",
    "plt.colorbar(sc, label= 'Air mass')\n",
    "plt.tight_layout()\n",
    "plt.show()\n"
   ]
  }
 ],
 "metadata": {
  "kernelspec": {
   "display_name": ".venv",
   "language": "python",
   "name": "python3"
  },
  "language_info": {
   "codemirror_mode": {
    "name": "ipython",
    "version": 3
   },
   "file_extension": ".py",
   "mimetype": "text/x-python",
   "name": "python",
   "nbconvert_exporter": "python",
   "pygments_lexer": "ipython3",
   "version": "3.12.3"
  }
 },
 "nbformat": 4,
 "nbformat_minor": 2
}
