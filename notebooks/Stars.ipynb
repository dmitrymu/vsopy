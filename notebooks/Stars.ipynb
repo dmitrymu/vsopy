{
 "cells": [
  {
   "cell_type": "code",
   "execution_count": null,
   "metadata": {},
   "outputs": [],
   "source": [
    "import os\n",
    "import sys\n",
    "module_path = os.path.abspath(os.path.join('../src'))\n",
    "if module_path not in sys.path:\n",
    "    sys.path.append(module_path)\n",
    "#from vso import util, data\n",
    "import astropy.units as u\n",
    "from SetupSession import use_dark_theme\n"
   ]
  },
  {
   "cell_type": "code",
   "execution_count": null,
   "metadata": {},
   "outputs": [],
   "source": [
    "import vso.util\n",
    "import vso.data\n",
    "\n",
    "OBJ_NAME='SZ Lyn'\n",
    "SESSION_TAG='20250126'\n",
    "IMAGE_ROOT = '/srv/public/img'\n",
    "WORK_ROOT = '/srv/public'\n",
    "\n",
    "session = vso.util.Session(tag=SESSION_TAG, name=OBJ_NAME)\n",
    "layout = vso.util.WorkLayout(WORK_ROOT)\n",
    "session_layout = layout.get_session(session)\n",
    "IMAGE_DIR = vso.util.ImageLayout(IMAGE_ROOT).get_images(session).lights_dir / 'V'\n",
    "sd = vso.data.StarData(layout.charts_dir)"
   ]
  },
  {
   "cell_type": "code",
   "execution_count": null,
   "metadata": {},
   "outputs": [],
   "source": [
    "import ccdproc as ccdp\n",
    "import vso.reduce\n",
    "\n",
    "ifc = ccdp.ImageFileCollection(IMAGE_DIR)\n",
    "path = IMAGE_DIR / ifc.summary['file'][0]\n",
    "image  = vso.reduce.load_and_solve(path, session_layout.solved_dir)\n",
    "matcher = vso.reduce.CalibrationMatcher(layout.calibr_dir, temp_tolerance=2*u.K)\n",
    "cal = matcher.match(image.header)\n",
    "reduced = vso.reduce.calibrate_image(image,\n",
    "                        dark=cal.dark,\n",
    "                        flat=cal.flat)\n"
   ]
  },
  {
   "cell_type": "code",
   "execution_count": null,
   "metadata": {},
   "outputs": [],
   "source": [
    "from astropy.stats import sigma_clipped_stats\n",
    "from photutils.detection import DAOStarFinder\n",
    "from astropy.coordinates import SkyCoord\n",
    "\n",
    "mean, median, std = sigma_clipped_stats(reduced.data, sigma=3.0)\n",
    "daofind = DAOStarFinder(fwhm=10.0, threshold=5.*std)\n",
    "\n",
    "sources = daofind(reduced.data)\n",
    "sources\n"
   ]
  },
  {
   "cell_type": "code",
   "execution_count": null,
   "metadata": {},
   "outputs": [],
   "source": [
    "from photutils.aperture import CircularAperture, ApertureStats\n",
    "\n",
    "ap = CircularAperture(zip(sources['xcentroid'], sources['ycentroid']), r=5)\n",
    "ph = ApertureStats(reduced, ap)\n",
    "ph.ellipticity"
   ]
  },
  {
   "cell_type": "code",
   "execution_count": null,
   "metadata": {},
   "outputs": [],
   "source": [
    "import matplotlib.pyplot as plt\n",
    "ax = plt.subplot()\n",
    "\n",
    "#c = ax.tricontourf(sources['xcentroid'], sources['ycentroid'], sources['roundness2'])\n",
    "c = ax.tricontourf(ph.xcentroid, ph.ycentroid, ph.ellipticity.value)\n",
    "plt.colorbar(c, ax=ax)\n",
    "\n",
    "plt.show()"
   ]
  },
  {
   "cell_type": "code",
   "execution_count": null,
   "metadata": {},
   "outputs": [],
   "source": [
    "import vso.phot\n",
    "from astropy.table import QTable\n",
    "\n",
    "stars = QTable(dict(sky_centroid=reduced.wcs.pixel_to_world(sources['xcentroid'], sources['ycentroid']),\n",
    "                    auid=sources['id']))\n",
    "\n",
    "stars = vso.phot.measure_photometry(reduced, stars, 5*u.arcsec, (10*u.arcsec, 15*u.arcsec))\n",
    "stars.rename_columns(['sky_centroid'], ['radec2000'])\n",
    "stars"
   ]
  },
  {
   "cell_type": "code",
   "execution_count": null,
   "metadata": {},
   "outputs": [],
   "source": [
    "chart = sd.get_chart(image.header['OBJECT'], fov=60 * u.arcsec)['auid', 'radec2000', image.header['FILTER']]\n",
    "chart"
   ]
  },
  {
   "cell_type": "code",
   "execution_count": null,
   "metadata": {},
   "outputs": [],
   "source": [
    "from astropy.table import join, join_skycoord\n",
    "chart_stars = join(stars, chart, keys='radec2000', join_funcs={'radec2000': join_skycoord(2 * u.arcsec)})\n",
    "chart_stars"
   ]
  },
  {
   "cell_type": "code",
   "execution_count": null,
   "metadata": {},
   "outputs": [],
   "source": [
    "import scipy.stats as sst\n",
    "\n",
    "regr = sst.linregress(chart_stars['M']['mag'], chart_stars['V']['mag'])\n",
    "regr"
   ]
  },
  {
   "cell_type": "code",
   "execution_count": null,
   "metadata": {},
   "outputs": [],
   "source": [
    "import matplotlib.pyplot as plt\n",
    "plt.plot(chart_stars['M']['mag'], chart_stars['V']['mag'], 'o')\n",
    "\n",
    "plt.plot(chart_stars['M']['mag'], regr.intercept + regr.slope*chart_stars['M']['mag'].value, 'r')\n",
    "\n",
    "plt.legend()\n",
    "\n",
    "plt.show()"
   ]
  },
  {
   "cell_type": "code",
   "execution_count": null,
   "metadata": {},
   "outputs": [],
   "source": [
    "import numpy as np\n",
    "\n",
    "transformed = QTable (dict(\n",
    "    id = stars['auid'],\n",
    "    radec2000 = stars['radec2000'],\n",
    "    V = regr.intercept *u.mag + regr.slope * stars['M']['mag'],\n",
    "    Verr = np.sqrt((regr.intercept_stderr *u.mag)**2 + (stars['M']['mag']*regr.stderr)**2)\n",
    "))\n",
    "transformed = transformed[np.logical_and(np.logical_not(np.isnan(transformed['V'])), transformed['V'] < 16*u.mag)]\n",
    "transformed.sort(['V'])\n",
    "transformed"
   ]
  },
  {
   "cell_type": "code",
   "execution_count": null,
   "metadata": {},
   "outputs": [],
   "source": [
    "center = SkyCoord(ra = reduced.wcs.wcs.crval[0] *u.deg, dec= reduced.wcs.wcs.crval[1] *u.deg)\n",
    "\n",
    "from astroquery.simbad import Simbad\n",
    "simbad = Simbad()\n",
    "\n",
    "simbad.ROW_LIMIT = 100\n",
    "\n",
    "# result = simbad.query_region(center, radius=\"0.7d\")\n",
    "# result\n",
    "\n",
    "#center.to_string('hmsdms')\n",
    "#reduced.header\n",
    "pc = reduced.wcs.pixel_to_world(reduced.header['NAXIS1']/2, reduced.header['NAXIS1']/2)\n",
    "pc.to_string('hmsdms'), center.to_string('hmsdms')\n"
   ]
  },
  {
   "cell_type": "code",
   "execution_count": null,
   "metadata": {},
   "outputs": [],
   "source": [
    "from astroquery.vizier import Vizier\n",
    "\n",
    "vizier = Vizier()\n",
    "vizier.ROW_LIMIT = -1\n",
    "result = vizier.query_region(center,\n",
    "                             width=55*u.arcmin,\n",
    "                             height=55*u.arcmin,\n",
    "                             #catalog='II/336/apass9',\n",
    "                             catalog='I/305',               # GSC 2.3\n",
    "                             column_filters={'Vmag': '<16.5'})\n",
    "cat_result = result[0]\n",
    "cat_result['radec2000'] = SkyCoord(ra=cat_result['RAJ2000'],\n",
    "                                   dec=cat_result['DEJ2000'])\n",
    "cat_result.remove_columns(['RAJ2000', 'DEJ2000'])\n",
    "cat_result\n",
    "\n",
    "cat_result"
   ]
  },
  {
   "cell_type": "code",
   "execution_count": null,
   "metadata": {},
   "outputs": [],
   "source": [
    "\n",
    "cat_stars = cat_result[cat_result['Class'] == 0]\n",
    "cat_gals = cat_result[cat_result['Class'] == 1]\n",
    "image.header['DATE-OBS']"
   ]
  },
  {
   "cell_type": "code",
   "execution_count": null,
   "metadata": {},
   "outputs": [],
   "source": [
    "from astropy.visualization import AsinhStretch, ImageNormalize, MinMaxInterval\n",
    "from matplotlib.patches import Circle\n",
    "\n",
    "\n",
    "alpha = 0.001\n",
    "interval = MinMaxInterval()\n",
    "fig = plt.figure(figsize=(10.24, 10.24))\n",
    "ax = plt.subplot(projection=reduced.wcs)\n",
    "vmin, vmax = interval.get_limits(reduced.data)\n",
    "norm = ImageNormalize(vmin=vmin, vmax=vmax, stretch=AsinhStretch(alpha))\n",
    "ax.imshow(reduced.data, origin='lower', norm=norm)\n",
    "for t in transformed:\n",
    "    r = 2*(20 - t['V'].value)\n",
    "    c = reduced.wcs.world_to_pixel(t['radec2000'])\n",
    "    ax.add_patch(Circle(c, r, color='red', alpha=.5))\n",
    "for s in cat_stars:\n",
    "    r = 2*(20 - s['Vmag'])\n",
    "    c = reduced.wcs.world_to_pixel(s['radec2000'])\n",
    "    ax.add_patch(Circle(c, r, color='blue', alpha=.5))\n",
    "for s in cat_gals:\n",
    "    r = 2*(20 - s['Vmag'])\n",
    "    c = reduced.wcs.world_to_pixel(s['radec2000'])\n",
    "    ax.add_patch(Circle(c, r, color='yellow', alpha=.5))\n",
    "plt.show()\n"
   ]
  },
  {
   "cell_type": "code",
   "execution_count": null,
   "metadata": {},
   "outputs": [],
   "source": [
    "confirmed = join(transformed, cat_stars, keys='radec2000', join_funcs={'radec2000': join_skycoord(2 * u.arcsec)})\n",
    "confirmed"
   ]
  },
  {
   "cell_type": "code",
   "execution_count": null,
   "metadata": {},
   "outputs": [],
   "source": [
    "rr = sst.linregress(confirmed['V'], confirmed['Vmag'])\n",
    "\n",
    "def pred(x):\n",
    "    return rr.intercept*u.mag + rr.slope*x\n",
    "\n",
    "def pred_err(x):\n",
    "    return np.sqrt((rr.intercept_stderr*u.mag)**2 + (x*rr.stderr)**2)\n",
    "\n",
    "predicted = pred(confirmed['V']) #rr.intercept*u.mag + rr.slope*confirmed['V']\n",
    "err = pred_err(confirmed['V'])\n",
    "good = np.abs(predicted - confirmed['Vmag']) < 3*err\n",
    "rr\n"
   ]
  },
  {
   "cell_type": "code",
   "execution_count": null,
   "metadata": {},
   "outputs": [],
   "source": [
    "\n",
    "plt.plot(confirmed['V'][good].value, confirmed['Vmag'][good].value, '.')\n",
    "plt.plot(confirmed['V'][~good], confirmed['Vmag'][~good].value, 'o')\n",
    "plt.plot(confirmed['V'][good], predicted[good], 'r')\n",
    "plt.plot(confirmed['V'][good], (predicted+3*err)[good], 'g--')\n",
    "plt.plot(confirmed['V'][good], (predicted-3*err)[good], 'g--')\n",
    "\n",
    "# plt.legend()\n",
    "plt.title(fr'$ R^2 = {rr.rvalue**2:.3g}$')\n",
    "plt.show()"
   ]
  },
  {
   "cell_type": "code",
   "execution_count": null,
   "metadata": {},
   "outputs": [],
   "source": [
    "confirmed[~good]"
   ]
  },
  {
   "cell_type": "code",
   "execution_count": null,
   "metadata": {},
   "outputs": [],
   "source": [
    "from astropy.io import fits\n",
    "from astropy.time import Time\n",
    "\n",
    "f = fits.open(\"/srv/public/img/20240825/RZ_Lyr/Light/V/RZ_Lyr_Light_g200_e20_o10_b1x1_V_001.fits\")\n",
    "#Time(f[0].header['DATE-OBS']).jd,\n",
    "f[0].header['FILTER']"
   ]
  }
 ],
 "metadata": {
  "kernelspec": {
   "display_name": ".venv",
   "language": "python",
   "name": "python3"
  },
  "language_info": {
   "codemirror_mode": {
    "name": "ipython",
    "version": 3
   },
   "file_extension": ".py",
   "mimetype": "text/x-python",
   "name": "python",
   "nbconvert_exporter": "python",
   "pygments_lexer": "ipython3",
   "version": "3.12.3"
  }
 },
 "nbformat": 4,
 "nbformat_minor": 2
}
