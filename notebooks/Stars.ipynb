{
 "cells": [
  {
   "cell_type": "code",
   "execution_count": null,
   "metadata": {},
   "outputs": [],
   "source": [
    "import os\n",
    "import sys\n",
    "module_path = os.path.abspath(os.path.join('../src'))\n",
    "if module_path not in sys.path:\n",
    "    sys.path.append(module_path)\n",
    "#from vsopy import util, data\n",
    "import astropy.units as u\n",
    "from SetupSession import use_dark_theme\n"
   ]
  },
  {
   "cell_type": "code",
   "execution_count": null,
   "metadata": {},
   "outputs": [],
   "source": [
    "import vso.util\n",
    "import vso.data\n",
    "\n",
    "OBJ_NAME='SZ Lyn'\n",
    "SESSION_TAG='2025/20250126'\n",
    "IMAGE_ROOT = '/srv/public/img'\n",
    "WORK_ROOT = '/srv/public'\n",
    "\n",
    "session = vso.util.Session(tag=SESSION_TAG, name=OBJ_NAME)\n",
    "layout = vso.util.WorkLayout(WORK_ROOT)\n",
    "session_layout = layout.get_session(session)\n",
    "IMAGE_DIR = vso.util.ImageLayout(IMAGE_ROOT).get_images(session).lights_dir / 'V'\n",
    "sd = vso.data.StarData(layout.charts_dir)"
   ]
  },
  {
   "cell_type": "code",
   "execution_count": null,
   "metadata": {},
   "outputs": [],
   "source": [
    "import ccdproc as ccdp\n",
    "import vso.reduce\n",
    "\n",
    "ifc = ccdp.ImageFileCollection(IMAGE_DIR)\n",
    "path = IMAGE_DIR / ifc.summary['file'][0]\n",
    "image  = vso.reduce.load_and_solve(path, session_layout.solved_dir)\n",
    "matcher = vso.reduce.CalibrationMatcher(layout.calibr_dir, temp_tolerance=2*u.K)\n",
    "cal = matcher.match(image.header)\n",
    "reduced = vso.reduce.calibrate_image(image,\n",
    "                        dark=cal.dark,\n",
    "                        flat=cal.flat)\n"
   ]
  },
  {
   "cell_type": "code",
   "execution_count": null,
   "metadata": {},
   "outputs": [],
   "source": [
    "from astropy.stats import sigma_clipped_stats\n",
    "from photutils.detection import DAOStarFinder\n",
    "from astropy.coordinates import SkyCoord\n",
    "import vso.phot\n",
    "from astropy.table import QTable\n",
    "import numpy as np\n",
    "import matplotlib.pyplot as plt\n",
    "from matplotlib.patches import Circle, RegularPolygon, Ellipse\n"
   ]
  },
  {
   "cell_type": "code",
   "execution_count": null,
   "metadata": {},
   "outputs": [],
   "source": [
    "\n",
    "mean, median, std = sigma_clipped_stats(reduced.data, sigma=3.0)\n",
    "daofind = DAOStarFinder(fwhm=10.0, threshold=5.*std)\n",
    "\n",
    "sources = daofind(reduced.data)\n",
    "sources"
   ]
  },
  {
   "cell_type": "code",
   "execution_count": null,
   "metadata": {},
   "outputs": [],
   "source": [
    "import vso.phot\n",
    "from astropy.table import QTable\n",
    "\n",
    "stars = QTable(dict(radec2000=reduced.wcs.pixel_to_world(sources['xcentroid'], sources['ycentroid']),\n",
    "                    auid=sources['id']))\n",
    "\n",
    "stars = vso.phot.measure_photometry(reduced, stars, vso.util.Aperture(5, 10, 15))\n",
    "#stars.rename_columns(['sky_centroid'], ['radec2000'])\n",
    "stars[stars['snr'].value > 5]"
   ]
  },
  {
   "cell_type": "code",
   "execution_count": null,
   "metadata": {},
   "outputs": [],
   "source": [
    "from astroquery.vizier import Vizier\n",
    "\n",
    "center = SkyCoord(ra = reduced.wcs.wcs.crval[0] *u.deg, dec= reduced.wcs.wcs.crval[1] *u.deg)\n",
    "\n",
    "vizier = Vizier(columns=['NOMAD1', 'Tycho-2', 'RAJ2000', 'DEJ2000', 'Bmag', 'Vmag', 'e_Bmag', 'e_Vmag', 'Rmag', 'e_RAJ2000', 'e_DEJ2000', 'pmRA', 'pmDE'])\n",
    "# vizier = Vizier(columns=['DR3Name', 'RA_ICRS', 'DE_ICRS', 'Gmag', 'BPmag', 'RPmag'])\n",
    "vizier.ROW_LIMIT = -1\n",
    "result = vizier.query_region(center,\n",
    "                             width=55*u.arcmin,\n",
    "                             height=55*u.arcmin,\n",
    "                             #catalog='II/336/apass9',\n",
    "                             #catalog='I/305',               # GSC 2.3\n",
    "                             catalog='I/297',               # NOMAD\n",
    "                            #  catalog='I/355/gaiadr3',       # Gaia DR3\n",
    "                            #  catalog='I/239/tyc_main',               # Hipparcos\n",
    "                             column_filters={'Vmag': '<16'})\n",
    "cat_result = result[0]\n",
    "\n",
    "# cat_result['radec2000'] = SkyCoord(ra=cat_result['RA_ICRS'], # Gaia\n",
    "#                                    dec=cat_result['DE_ICRS'])\n",
    "# cat_result.remove_columns(['RA_ICRS', 'DE_ICRS'])\n",
    "cat_result['radec2000'] = SkyCoord(ra=cat_result['RAJ2000'], # GSC, NOMAD\n",
    "                                   dec=cat_result['DEJ2000'])\n",
    "cat_result.remove_columns(['RAJ2000', 'DEJ2000'])\n",
    "# cat_result['radec2000'] = SkyCoord(ra=cat_result['RAICRS'], # Hipparcos\n",
    "#                                    dec=cat_result['DEICRS'],\n",
    "#                                    frame='icrs')\n",
    "# cat_result.remove_columns(['RAICRS', 'DEICRS'])\n",
    "\n",
    "cat_result"
   ]
  },
  {
   "cell_type": "code",
   "execution_count": null,
   "metadata": {},
   "outputs": [],
   "source": [
    "vizier = Vizier(columns=['GCVS', 'VarType', 'RAJ2000', 'DEJ2000', 'magMax', 'Min1', 'Min2', 'n_Min1', 'n_Min2', 'flt', 'Period'])\n",
    "#vizier = Vizier(columns=['GCVS', 'Vmag', 'RAJ2000', 'DEJ2000'])\n",
    "vizier.ROW_LIMIT = -1\n",
    "result = vizier.query_region(center,\n",
    "                             width=55*u.arcmin,\n",
    "                             height=55*u.arcmin,\n",
    "                             catalog='B/gcvs',               # GCVS\n",
    "                             column_filters={})\n",
    "vars = result[0]\n",
    "\n",
    "vars['radec2000'] = SkyCoord(ra=vars['RAJ2000'], # GSC, NOMAD\n",
    "                                   dec=vars['DEJ2000'], unit=(u.hourangle, u.deg))\n",
    "vars.remove_columns(['RAJ2000', 'DEJ2000'])\n",
    "vars"
   ]
  },
  {
   "cell_type": "code",
   "execution_count": null,
   "metadata": {},
   "outputs": [],
   "source": [
    "vizier = Vizier()#columns=['GCVS', 'VarType', 'RAJ2000', 'DEJ2000', 'magMax', 'Min1', 'Min2', 'n_Min1', 'n_Min2', 'flt', 'Period'])\n",
    "vizier.ROW_LIMIT = -1\n",
    "result = vizier.query_region(center,\n",
    "                             width=55*u.arcmin,\n",
    "                             height=55*u.arcmin,\n",
    "                             catalog='VII/237/pgc',               # PGC/HYPERLEDA\n",
    "                             column_filters={})\n",
    "gals = result[0]\n",
    "\n",
    "gals['radec2000'] = SkyCoord(ra=gals['RAJ2000'], # GSC, NOMAD\n",
    "                                   dec=gals['DEJ2000'], unit=(u.hourangle, u.deg))\n",
    "# gals.remove_columns(['RAJ2000', 'DEJ2000'])\n",
    "gals"
   ]
  },
  {
   "cell_type": "code",
   "execution_count": null,
   "metadata": {},
   "outputs": [],
   "source": [
    "centroids = QTable.read(session_layout.centroid_file_path)\n",
    "# cat_stars = cat_result[cat_result['Class'] == 0]\n",
    "# cat_gals = cat_result[cat_result['Class'] == 1]\n",
    "# image.header['DATE-OBS']\n",
    "cat_stars = cat_result\n",
    "cat_stars['pmRA'] * 25 *u.mas"
   ]
  },
  {
   "cell_type": "code",
   "execution_count": null,
   "metadata": {},
   "outputs": [],
   "source": [
    "%matplotlib ipympl\n",
    "from astropy.visualization import AsinhStretch, LogStretch, ImageNormalize, MinMaxInterval\n",
    "from matplotlib import cm\n",
    "\n",
    "cmap = cm.get_cmap('gray').reversed()\n",
    "snr_max = np.max(stars['snr'].value)\n",
    "\n",
    "t_o = 25*u.mas\n",
    "\n",
    "alpha = 0.001\n",
    "interval = MinMaxInterval()\n",
    "fig = plt.figure(figsize=(16.00, 16.00))\n",
    "ax = plt.subplot(projection=reduced.wcs)\n",
    "vmin, vmax = interval.get_limits(reduced.data)\n",
    "norm = ImageNormalize(vmin=mean+2*std, vmax=vmax, stretch=LogStretch(10000))\n",
    "ax.imshow(reduced.data, origin='lower', norm=norm, cmap=cmap)\n",
    "for t in stars:\n",
    "    r = 5 # 2*(20 - t['M']['mag'].value)\n",
    "    c = reduced.wcs.world_to_pixel(t['radec2000'])\n",
    "    ax.add_patch(Circle(c, r, color='red', alpha=.8, fill=False)) #alpha=np.clip(t['snr'].value/snr_max, 0, .9)\n",
    "for s in cat_stars:\n",
    "    r = 15 #2*(20 - s['Vmag'])\n",
    "    c = reduced.wcs.world_to_pixel(s['radec2000'])\n",
    "    ax.add_patch(Circle(c, r, color='blue', alpha=.8, fill=False))\n",
    "    # c1 = reduced.wcs.world_to_pixel(s['radec2000'].spherical_offsets_by(s['pmRA']*t_o, s['pmDE']*t_o))\n",
    "    # ax.add_patch(Circle(c1, 10, color='blue', alpha=.5, fill=False))\n",
    "for s in vars:\n",
    "    r = 40\n",
    "    c = reduced.wcs.world_to_pixel(s['radec2000'])\n",
    "    ax.add_patch(RegularPolygon(c, 4, radius=r, color='orange', fill=False, alpha=.8))\n",
    "for comp in centroids:\n",
    "    r = 40\n",
    "    c = reduced.wcs.world_to_pixel(comp['radec2000'])\n",
    "    ax.add_patch(RegularPolygon(c, 3, radius=r, color='gray', fill=False, alpha=.8))\n",
    "for g in gals:\n",
    "    r = 20\n",
    "    c = reduced.wcs.world_to_pixel(g['radec2000'])\n",
    "    ax.add_patch(Ellipse(c, r, r/2, angle=g['PA'], color='gray', fill=False, alpha=.8))\n",
    "# for s in cat_gals:\n",
    "#     r = 2*(20 - s['Vmag'])\n",
    "#     c = reduced.wcs.world_to_pixel(s['radec2000'])\n",
    "#     ax.add_patch(Circle(c, r, color='yellow', alpha=.5))\n",
    "\n",
    "plt.grid(color='black', ls='dashed')\n",
    "plt.show()\n"
   ]
  },
  {
   "cell_type": "code",
   "execution_count": null,
   "metadata": {},
   "outputs": [],
   "source": [
    "\n",
    "# cat_stars = cat_result[cat_result['Class'] == 0]\n",
    "# cat_gals = cat_result[cat_result['Class'] == 1]\n",
    "# image.header['DATE-OBS']\n",
    "cat_stars = cat_result"
   ]
  },
  {
   "cell_type": "code",
   "execution_count": null,
   "metadata": {},
   "outputs": [],
   "source": [
    "from astropy.table import join, join_skycoord\n",
    "\n",
    "\n",
    "confirmed = join(stars, cat_stars, keys='radec2000', join_funcs={'radec2000': join_skycoord(2 * u.arcsec)})\n",
    "confirmed = confirmed[confirmed['snr'].value > 13]\n",
    "confirmed['radec_err'] = confirmed['radec2000_1'].separation(confirmed['radec2000_2']).to(u.arcsec)\n",
    "confirmed"
   ]
  },
  {
   "cell_type": "code",
   "execution_count": null,
   "metadata": {},
   "outputs": [],
   "source": [
    "import scipy.stats as sst\n",
    "\n",
    "rr = sst.linregress(confirmed['M']['mag'].value, confirmed['Vmag'])\n",
    "rr_slope_err2 = (rr.stderr/rr.slope) ** 2\n",
    "\n",
    "def pred(x):\n",
    "    return rr.intercept*u.mag + rr.slope*x\n",
    "\n",
    "def pred_err(x, err):\n",
    "    x_err2 = (err/x).value**2\n",
    "    rr_err2 = np.full((len(x),), rr_slope_err2)\n",
    "    return np.sqrt((rr.intercept_stderr)**2 + (x*rr.slope).value * np.sqrt(x_err2 + rr_err2))*u.mag\n",
    "\n",
    "predicted = pred(confirmed['M']['mag']) #rr.intercept*u.mag + rr.slope*confirmed['V']\n",
    "err = pred_err(confirmed['M']['mag'], confirmed['M']['err'])\n",
    "good = np.abs(predicted - confirmed['Vmag']) < 1*err\n",
    "rr\n"
   ]
  },
  {
   "cell_type": "code",
   "execution_count": null,
   "metadata": {},
   "outputs": [],
   "source": [
    "\n",
    "\n",
    "plt.plot(confirmed['M']['mag'][good].value, confirmed['Vmag'][good].value, '.')\n",
    "plt.plot(confirmed['M']['mag'][~good], confirmed['Vmag'][~good].value, 'o')\n",
    "plt.plot(confirmed['M']['mag'][good], predicted[good], 'r')\n",
    "plt.plot(confirmed['M']['mag'][good], (predicted+1*err)[good], 'g-')\n",
    "plt.plot(confirmed['M']['mag'][good], (predicted-1*err)[good], 'g-')\n",
    "\n",
    "# plt.legend()\n",
    "plt.title(fr'$ R^2 = {rr.rvalue**2:.3g}$')\n",
    "plt.show()"
   ]
  },
  {
   "cell_type": "code",
   "execution_count": null,
   "metadata": {},
   "outputs": [],
   "source": [
    "confirmed[~good]"
   ]
  },
  {
   "cell_type": "markdown",
   "metadata": {},
   "source": []
  }
 ],
 "metadata": {
  "kernelspec": {
   "display_name": ".venv",
   "language": "python",
   "name": "python3"
  },
  "language_info": {
   "codemirror_mode": {
    "name": "ipython",
    "version": 3
   },
   "file_extension": ".py",
   "mimetype": "text/x-python",
   "name": "python",
   "nbconvert_exporter": "python",
   "pygments_lexer": "ipython3",
   "version": "3.13.2"
  }
 },
 "nbformat": 4,
 "nbformat_minor": 2
}
