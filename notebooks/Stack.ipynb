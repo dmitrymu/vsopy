{
 "cells": [
  {
   "cell_type": "code",
   "execution_count": null,
   "metadata": {},
   "outputs": [],
   "source": [
    "import os\n",
    "import sys\n",
    "module_path = os.path.abspath(os.path.join('../src'))\n",
    "if module_path not in sys.path:\n",
    "    sys.path.append(module_path)\n",
    "import astropy.units as u\n"
   ]
  },
  {
   "cell_type": "code",
   "execution_count": null,
   "metadata": {},
   "outputs": [],
   "source": [
    "import vsopy.util\n",
    "import vsopy.data\n",
    "\n",
    "OBJ_NAME='SZ Lyn'\n",
    "SESSION_TAG='20250127'\n",
    "IMAGE_ROOT = '/srv/public/img'\n",
    "WORK_ROOT = '/srv/public'\n",
    "\n",
    "session = vsopy.util.Session(tag=SESSION_TAG, name=OBJ_NAME)\n",
    "layout = vsopy.util.WorkLayout(WORK_ROOT)\n",
    "session_layout = layout.get_session(session)\n",
    "IMAGE_DIR = vsopy.util.ImageLayout(IMAGE_ROOT).get_images(session).lights_dir\n",
    "sd = vsopy.data.StarData(layout.charts_dir)"
   ]
  },
  {
   "cell_type": "code",
   "execution_count": null,
   "metadata": {},
   "outputs": [],
   "source": [
    "import ccdproc as ccdp\n",
    "import vsopy.reduce\n",
    "import vsopy.phot\n",
    "from astropy.table import QTable\n",
    "\n",
    "N = 30\n",
    "s = slice(N*3, (N+1)*3)\n",
    "band = 'V'\n",
    "\n",
    "matcher = vsopy.reduce.CalibrationMatcher(layout.calibr_dir)\n",
    "\n",
    "stars = QTable.read(session_layout.root_dir / 'centroids.ecsv')\n",
    "\n",
    "def reduce_image(path):\n",
    "    solved = vsopy.reduce.load_and_solve(path, session_layout.solved_dir)\n",
    "    cal = matcher.match(solved.header)\n",
    "    reduced = vsopy.reduce.calibrate_image(solved,\n",
    "                                dark=cal.dark,\n",
    "                                flat=cal.flat)\n",
    "    return reduced\n",
    "\n",
    "# measure_stacked (IMAGE_DIR, V, slice)\n",
    "\n",
    "def measure_stacked(dir, band, s):\n",
    "    files = ccdp.ImageFileCollection(dir / band)\n",
    "    paths = list(files.files_filtered(include_path=True))[s]\n",
    "    reduced = list([reduce_image(path) for  path in paths])\n",
    "    image = ccdp.combine(reduced, method='sum', mem_limit=1e9)\n",
    "    image.header['EXPTIME'] = image.header['EXPTIME'] * len(reduced)\n",
    "\n",
    "    phot_table = vsopy.phot.measure_photometry(image, stars,\n",
    "                                    5*u.arcsec,\n",
    "                                    (10*u.arcsec, 15*u.arcsec))\n",
    "    return phot_table\n",
    "\n"
   ]
  },
  {
   "cell_type": "code",
   "execution_count": null,
   "metadata": {},
   "outputs": [],
   "source": [
    "#images = list(files.ccds(ccd_kwargs={'unit': u.adu}))[0:3]\n",
    "ph_v = measure_stacked(IMAGE_DIR, 'V', s)\n",
    "ph_b = measure_stacked(IMAGE_DIR, 'B', s)"
   ]
  },
  {
   "cell_type": "code",
   "execution_count": null,
   "metadata": {},
   "outputs": [],
   "source": [
    "ph_b"
   ]
  },
  {
   "cell_type": "code",
   "execution_count": null,
   "metadata": {},
   "outputs": [],
   "source": [
    "import numpy as np\n",
    "\n",
    "from astropy.table import join\n",
    "chart = sd.get_chart(OBJ_NAME, fov=60*u.arcmin)\n",
    "\n",
    "ph = join(join(ph_b['auid', 'M'], ph_v['auid', 'M'], keys='auid', table_names=['B', 'V']),\n",
    "     chart['auid', 'B', 'V'], keys='auid', join_type='left')\n",
    "ph.format = '.4f'\n",
    "\n",
    "ph.rename_columns(['M_B', 'M_V'], ['instr B', 'instr V'])\n",
    "ph['B']['mag'] = ph['B']['mag'].filled(np.nan)\n",
    "ph['B']['err'] = ph['B']['err'].filled(np.nan)\n",
    "ph['V']['mag'] = ph['V']['mag'].filled(np.nan)\n",
    "ph['V']['err'] = ph['V']['err'].filled(np.nan)\n",
    "ph['cat err'] = np.sqrt(ph['B']['err']**2 + ph['V']['err']**2)\n",
    "ph['cat err'].format = '.4f'\n",
    "ph['instr err'] = np.sqrt(ph['instr B']['err']**2 + ph['instr V']['err']**2)\n",
    "ph['err'] = np.sqrt(ph['cat err']**2 + ph['instr err']**2)\n",
    "ph"
   ]
  },
  {
   "cell_type": "code",
   "execution_count": null,
   "metadata": {},
   "outputs": [],
   "source": [
    "target = '000-BBP-158'\n",
    "comp = '000-BJR-416'\n",
    "check = '000-BBP-198'\n",
    "exclude = [target, comp, check, '000-BBP-105', '000-BBP-126']\n",
    "tr = vsopy.phot.SimpleTransform.create(ph[~np.isin(ph['auid'], exclude)], 'B', 'V')\n",
    "tr(ph[ph['auid'] == target], ph[ph['auid'] == comp]), tr(ph[ph['auid'] == check], ph[ph['auid'] == comp])"
   ]
  },
  {
   "cell_type": "code",
   "execution_count": null,
   "metadata": {},
   "outputs": [],
   "source": [
    "tr1 = vsopy.phot.SimpleTransform.create(ph[~np.isin(ph['auid'], exclude)], 'V', 'B')\n",
    "tr1(ph[ph['auid'] == target], ph[ph['auid'] == comp]), tr1(ph[ph['auid'] == check], ph[ph['auid'] == comp])"
   ]
  },
  {
   "cell_type": "code",
   "execution_count": null,
   "metadata": {},
   "outputs": [],
   "source": [
    "import matplotlib.pyplot as plt\n",
    "\n",
    "t = ph[~np.isin(ph['auid'], exclude)] #ph[~np.isin(ph['auid'], ['000-BBP-158', '000-BBP-105'])]\n",
    "\n",
    "AB = t['B']['mag'] - t['V']['mag']\n",
    "ab = t['instr B']['mag'] - t['instr V']['mag']\n",
    "Aa = t['B']['mag'] - t[f'instr B']['mag']\n",
    "\n",
    "sz = 2 * (16-t['B']['mag'].value) **2\n",
    "\n",
    "fig = plt.figure(figsize=(10.24, 8.00))\n",
    "gs = fig.add_gridspec(1, 1)\n",
    "ax = plt.subplot()\n",
    "ax = fig.add_subplot(gs[0, 0])\n",
    "#ax.scatter(AB.value, ab.value, s=sz)\n",
    "for x, y, label in zip(AB.value, ab.value, t['auid']):\n",
    "    plt.text(x, y, label)\n",
    "ax.errorbar(AB.value.unmasked, ab.value,\n",
    "     #t['instr B']['mag'], t['B']['mag'],\n",
    "             xerr=np.sqrt(t['B']['err'].unmasked.value**2 + t['V']['err'].unmasked.value**2)/2,\n",
    "             yerr=np.sqrt(t['instr B']['err'].value**2 + t['instr V']['err'].value**2)/2,\n",
    "             fmt='o')\n",
    "# ax = fig.add_subplot(gs[0, 1])\n",
    "# ax.scatter(AB, Aa)\n",
    "# ax.errorbar(AB, Aa,\n",
    "#     #t['instr V']['mag'], t['V']['mag'],\n",
    "#             # xerr=t['instr B']['err']/2,\n",
    "#             #yerr=np.ma.getdata(t['B']['err'])/2,\n",
    "#             fmt='o')\n",
    "\n",
    "plt.show()\n",
    "#t['B']['err'])/2"
   ]
  },
  {
   "cell_type": "code",
   "execution_count": null,
   "metadata": {},
   "outputs": [],
   "source": [
    "t['B']['err'].value"
   ]
  },
  {
   "cell_type": "code",
   "execution_count": null,
   "metadata": {},
   "outputs": [],
   "source": [
    "from astropy.coordinates import SkyCoord\n",
    "\n",
    "c = SkyCoord([r.wcs.wcs.crval for r in reduced], unit = u.deg)\n",
    "\n",
    "[j.separation(i).to(u.arcsec)  for i, j in zip(c[:-1], c[1:])]"
   ]
  }
 ],
 "metadata": {
  "kernelspec": {
   "display_name": ".venv",
   "language": "python",
   "name": "python3"
  },
  "language_info": {
   "codemirror_mode": {
    "name": "ipython",
    "version": 3
   },
   "file_extension": ".py",
   "mimetype": "text/x-python",
   "name": "python",
   "nbconvert_exporter": "python",
   "pygments_lexer": "ipython3",
   "version": "3.12.3"
  }
 },
 "nbformat": 4,
 "nbformat_minor": 2
}
