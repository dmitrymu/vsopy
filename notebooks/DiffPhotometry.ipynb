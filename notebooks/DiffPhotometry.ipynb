{
 "cells": [
  {
   "cell_type": "code",
   "execution_count": 1,
   "metadata": {},
   "outputs": [],
   "source": [
    "import os\n",
    "import sys\n",
    "module_path = os.path.abspath(os.path.join('../src'))\n",
    "if module_path not in sys.path:\n",
    "    sys.path.append(module_path)\n"
   ]
  },
  {
   "cell_type": "markdown",
   "metadata": {},
   "source": [
    "# Differential Photometry Preview  "
   ]
  },
  {
   "cell_type": "markdown",
   "metadata": {},
   "source": [
    "Set parameters: object and tag name, image and session roots"
   ]
  },
  {
   "cell_type": "code",
   "execution_count": 2,
   "metadata": {},
   "outputs": [],
   "source": [
    "import vso.util\n",
    "import vso.data\n",
    "\n",
    "OBJ_NAME='SZ Lyn'\n",
    "SESSION_TAG='2025/20250225'\n",
    "# OBJ_NAME='RZ Lyr'\n",
    "# SESSION_TAG='20240827'\n",
    "IMAGE_ROOT = '/srv/public/img'\n",
    "WORK_ROOT = '/srv/public'\n",
    "\n",
    "session = vso.util.Session(tag=SESSION_TAG, name=OBJ_NAME)\n",
    "layout = vso.util.WorkLayout(WORK_ROOT)\n",
    "session_layout = layout.get_session(session)\n",
    "settings = vso.util.Settings(session_layout.settings_file_path)"
   ]
  },
  {
   "cell_type": "markdown",
   "metadata": {},
   "source": [
    "For each band pair select comparison star that minimizes target error and check star that minimizes check error"
   ]
  },
  {
   "cell_type": "code",
   "execution_count": 3,
   "metadata": {},
   "outputs": [
    {
     "data": {
      "application/vnd.jupyter.widget-view+json": {
       "model_id": "5d7c07775ef2431b88c0864a03883559",
       "version_major": 2,
       "version_minor": 0
      },
      "text/plain": [
       "interactive(children=(Dropdown(description='Band', options=(('B V', 0), ('V Rc', 1), ('Rc Ic', 2)), value=0), …"
      ]
     },
     "metadata": {},
     "output_type": "display_data"
    }
   ],
   "source": [
    "from DiffPhotometry import PreviewDiffPhotometry\n",
    "preview = PreviewDiffPhotometry(settings, session_layout, save_tables=True)\n",
    "preview.run()"
   ]
  },
  {
   "cell_type": "markdown",
   "metadata": {},
   "source": [
    "Review and confirm comparison and check star selection"
   ]
  },
  {
   "cell_type": "code",
   "execution_count": 4,
   "metadata": {},
   "outputs": [
    {
     "data": {
      "application/vnd.jupyter.widget-view+json": {
       "model_id": "325ec6c04b9048d9a7d24e3ba82f96b2",
       "version_major": 2,
       "version_minor": 0
      },
      "text/plain": [
       "VBox(children=(HBox(children=(Textarea(value='{\\n  \"aperture\": {\\n    \"unit\": \"arcsec\",\\n    \"r_ap\": 5.0,\\n   …"
      ]
     },
     "metadata": {},
     "output_type": "display_data"
    }
   ],
   "source": [
    "from DiffPhotometry import confirm_settings\n",
    "confirm_settings(preview, session_layout)"
   ]
  }
 ],
 "metadata": {
  "kernelspec": {
   "display_name": ".venv",
   "language": "python",
   "name": "python3"
  },
  "language_info": {
   "codemirror_mode": {
    "name": "ipython",
    "version": 3
   },
   "file_extension": ".py",
   "mimetype": "text/x-python",
   "name": "python",
   "nbconvert_exporter": "python",
   "pygments_lexer": "ipython3",
   "version": "3.13.2"
  }
 },
 "nbformat": 4,
 "nbformat_minor": 2
}
