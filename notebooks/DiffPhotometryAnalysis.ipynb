{
 "cells": [
  {
   "cell_type": "code",
   "execution_count": null,
   "metadata": {},
   "outputs": [],
   "source": [
    "import os\n",
    "import sys\n",
    "module_path = os.path.abspath(os.path.join('../src'))\n",
    "if module_path not in sys.path:\n",
    "    sys.path.append(module_path)\n"
   ]
  },
  {
   "cell_type": "markdown",
   "metadata": {},
   "source": [
    "# Differential Photometry Preview  "
   ]
  },
  {
   "cell_type": "code",
   "execution_count": null,
   "metadata": {},
   "outputs": [],
   "source": [
    "import vso.util\n",
    "import vso.data\n",
    "\n",
    "OBJ_NAME='SZ Lyn'\n",
    "SESSION_TAG='20250126'\n",
    "# OBJ_NAME='RZ Lyr'\n",
    "# SESSION_TAG='20240827'\n",
    "IMAGE_ROOT = '/srv/public/img'\n",
    "WORK_ROOT = '/srv/public'\n",
    "\n",
    "session = vso.util.Session(tag=SESSION_TAG, name=OBJ_NAME)\n",
    "layout = vso.util.WorkLayout(WORK_ROOT)\n",
    "session_layout = layout.get_session(session)\n",
    "settings = vso.util.Settings(session_layout.settings_file_path)"
   ]
  },
  {
   "cell_type": "code",
   "execution_count": null,
   "metadata": {},
   "outputs": [],
   "source": [
    "from astropy.table import join\n",
    "# tr = QTable.read(session_layout.root_dir / \"Tr_B_V.ecsv\")\n",
    "from vsopy import phot\n",
    "bands = ('B', 'V')\n",
    "\n",
    "provider = phot.BatchDataProvider(session_layout)\n",
    "tr = join(phot.batch_create_simple_transform(provider, bands), provider.batches_, 'batch_id')"
   ]
  },
  {
   "cell_type": "code",
   "execution_count": null,
   "metadata": {},
   "outputs": [],
   "source": [
    "tr['xfm']['Tab']['val']"
   ]
  },
  {
   "cell_type": "code",
   "execution_count": null,
   "metadata": {},
   "outputs": [],
   "source": [
    "import matplotlib.pyplot as plt\n",
    "import numpy as np\n",
    "from scipy import stats as sst\n",
    "\n",
    "var = 'Tab'\n",
    "var_err = var + '_err'\n",
    "\n",
    "trvar = tr['xfm']['Tab']['val']\n",
    "trerr = tr['xfm']['Tab']['err']\n",
    "\n",
    "lr = sst.linregress(tr['airmass'], trvar)\n",
    "line = np.array([np.min(tr['airmass']), np.max(tr['airmass'])])\n",
    "res = trvar - (tr['airmass'] * lr.slope + lr.intercept)\n",
    "res_std = np.std(res)\n",
    "dev_lim = 2\n",
    "\n",
    "fltr = np.abs(res) < dev_lim*res_std\n",
    "#fltr = np.abs(tr[var_err]) < np.percentile(tr[var_err], 75)\n",
    "\n",
    "lr1 = sst.linregress(tr['airmass'][fltr], trvar[fltr])\n",
    "res1 = trvar[fltr] - (tr['airmass'][fltr] * lr1.slope + lr1.intercept)\n",
    "res_std_1 = np.std(res1)\n",
    "#lr.stderr, lr1.stderr\n"
   ]
  },
  {
   "cell_type": "code",
   "execution_count": null,
   "metadata": {},
   "outputs": [],
   "source": [
    "\n",
    "def regr(lim):\n",
    "    fltr = np.abs(res) < lim*res_std\n",
    "    lrn = sst.linregress(tr['airmass'][fltr], trvar[fltr])\n",
    "    return lrn.slope, lrn.stderr, lrn.intercept, lrn.intercept_stderr\n",
    "\n",
    "np.vectorize(regr)(np.linspace(.25, 2.0, 8))"
   ]
  },
  {
   "cell_type": "code",
   "execution_count": null,
   "metadata": {},
   "outputs": [],
   "source": [
    "sst.normaltest(res), sst.normaltest(res1)"
   ]
  },
  {
   "cell_type": "code",
   "execution_count": null,
   "metadata": {},
   "outputs": [],
   "source": [
    "\n",
    "def reg_label(var, lr):\n",
    "    return f'${{{var}}} = x ({{{lr.slope:.2g}}} \\\\pm {{{lr.stderr:.2g}}}) + ({{{lr.intercept:.2g}}} \\\\pm {{{lr.intercept_stderr:.2g}}}), R^2 = {{{lr.rvalue ** 2:.2g}}}$'\n",
    "\n",
    "fig = plt.figure(figsize=(12.80, 8.00))\n",
    "gs = fig.add_gridspec(2, 2, width_ratios=[2, 1])\n",
    "ax = fig.add_subplot(gs[0, 0])\n",
    "\n",
    "#ax.plot(tr['airmass'][fltr], tr[var][fltr], '.')\n",
    "ax.errorbar(tr['airmass'][fltr], trvar[fltr], yerr=trerr[fltr], fmt='.')\n",
    "ax.plot(line, line * lr.slope + lr.intercept, \"-\")\n",
    "ax.plot(line, line * lr.slope + lr.intercept + dev_lim*res_std, \"--\", color='grey')\n",
    "ax.plot(line, line * lr.slope + lr.intercept - dev_lim*res_std, \"--\", color='grey')\n",
    "#ax.plot(tr['airmass'][~fltr], tr[var][~fltr], '.', color='red')\n",
    "ax.errorbar(tr['airmass'][~fltr], trvar[~fltr], yerr=trerr[~fltr], fmt='.', color='red')\n",
    "ax.set_ylabel(var)\n",
    "ax.set_xlabel('Air mass')\n",
    "ax.set_title(reg_label(var, lr))\n",
    "\n",
    "ax1 = fig.add_subplot(gs[0, 1])\n",
    "# ax1.hist(res, bins=20)\n",
    "sst.probplot(res, dist=\"norm\", plot=ax1)\n",
    "\n",
    "ax2 = fig.add_subplot(gs[1, 0])\n",
    "ax2.plot(tr['airmass'][fltr], trvar[fltr], '.')\n",
    "ax2.plot(line, line * lr1.slope + lr1.intercept, \"-\")\n",
    "ax2.plot(line, line * lr1.slope + lr1.intercept + dev_lim*res_std_1, \"--\", color='grey')\n",
    "ax2.plot(line, line * lr1.slope + lr1.intercept - dev_lim*res_std_1, \"--\", color='grey')\n",
    "ax2.set_ylabel(var)\n",
    "ax2.set_xlabel('Air mass')\n",
    "ax2.set_title(reg_label(var, lr1))\n",
    "\n",
    "ax3 = fig.add_subplot(gs[1, 1])\n",
    "#ax3.hist(res1, bins=20)\n",
    "sst.probplot(res1, dist=\"norm\", plot=ax3)\n",
    "\n",
    "plt.tight_layout()\n",
    "plt.show()\n"
   ]
  },
  {
   "cell_type": "code",
   "execution_count": null,
   "metadata": {},
   "outputs": [],
   "source": [
    "# %matplotlib ipympl\n",
    "# #fig = plt.figure(figsize=(8.00, 16.00))\n",
    "# gs = fig.add_gridspec(1, 1)\n",
    "# ax = fig.add_subplot(gs[0, 0], projection='3d')\n",
    "# ax.scatter(tr['Ta'], tr['Tb'], tr['Tab'], marker='.')\n",
    "# ax.set_xlabel('Ta')\n",
    "# ax.set_ylabel('Tb')\n",
    "# ax.set_zlabel('Tab')\n",
    "# plt.show()\n"
   ]
  },
  {
   "cell_type": "code",
   "execution_count": null,
   "metadata": {},
   "outputs": [],
   "source": [
    "fig = plt.figure(figsize=(12.80, 8.00))\n",
    "gs = fig.add_gridspec(1, 3)\n",
    "ax = fig.add_subplot(gs[0, 0])\n",
    "ax.scatter(tr['xfm']['Ta']['val'], tr['xfm']['Tb']['val'], marker='.')\n",
    "ax1 = fig.add_subplot(gs[0, 1])\n",
    "ax1.scatter(tr['xfm']['Ta']['val'], tr['xfm']['Tab']['val'], marker='.')\n",
    "ax2 = fig.add_subplot(gs[0, 2])\n",
    "ax2.scatter(tr['xfm']['Tb']['val'], tr['xfm']['Tab']['val'], marker='.')\n",
    "plt.show()\n"
   ]
  },
  {
   "cell_type": "code",
   "execution_count": null,
   "metadata": {},
   "outputs": [],
   "source": [
    "fig = plt.figure(figsize=(8.00, 16.00))\n",
    "gs = fig.add_gridspec(3, 1)\n",
    "\n",
    "ax = fig.add_subplot(gs[0, 0])\n",
    "ax.plot(tr['airmass'], tr[var_err], '.')\n",
    "ax.set_ylabel(var_err)\n",
    "ax.set_xlabel('Air mass')\n",
    "\n",
    "ax1 = fig.add_subplot(gs[1, 0])\n",
    "ax1.plot(tr['id'], tr[var_err], '.')\n",
    "ax1.set_ylabel(var_err)\n",
    "#ax1.set_xlabel('Air mass')\n",
    "\n",
    "ax2 = fig.add_subplot(gs[2, 0])\n",
    "ax2.plot(tr['id'], tr['airmass'], '.')\n",
    "ax2.set_ylabel('Air mass')\n",
    "\n",
    "plt.show()"
   ]
  }
 ],
 "metadata": {
  "kernelspec": {
   "display_name": ".venv",
   "language": "python",
   "name": "python3"
  },
  "language_info": {
   "codemirror_mode": {
    "name": "ipython",
    "version": 3
   },
   "file_extension": ".py",
   "mimetype": "text/x-python",
   "name": "python",
   "nbconvert_exporter": "python",
   "pygments_lexer": "ipython3",
   "version": "3.12.3"
  }
 },
 "nbformat": 4,
 "nbformat_minor": 2
}
