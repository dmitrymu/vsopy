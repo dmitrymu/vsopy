{
 "cells": [
  {
   "cell_type": "code",
   "execution_count": null,
   "metadata": {},
   "outputs": [],
   "source": [
    "import os\n",
    "import sys\n",
    "module_path = os.path.abspath(os.path.join('../src'))\n",
    "if module_path not in sys.path:\n",
    "    sys.path.append(module_path)\n"
   ]
  },
  {
   "cell_type": "code",
   "execution_count": null,
   "metadata": {},
   "outputs": [],
   "source": [
    "import vso.util\n",
    "import vso.data\n",
    "import vso.phot\n",
    "\n",
    "OBJ_NAME='SZ Lyn'\n",
    "SESSION_TAG='2025/20250127'\n",
    "# OBJ_NAME='RZ Lyr'\n",
    "# SESSION_TAG='20240827'\n",
    "IMAGE_ROOT = '/srv/public/img'\n",
    "WORK_ROOT = '/srv/public'\n",
    "\n",
    "session = vso.util.Session(tag=SESSION_TAG, name=OBJ_NAME)\n",
    "layout = vso.util.WorkLayout(WORK_ROOT)\n",
    "session_layout = layout.get_session(session)\n",
    "settings = vso.util.Settings(session_layout.settings_file_path)\n",
    "provider = vso.phot.BatchDataProvider(session_layout)\n"
   ]
  },
  {
   "cell_type": "code",
   "execution_count": null,
   "metadata": {},
   "outputs": [],
   "source": [
    "from astropy.table import QTable, Column, join\n",
    "import numpy as np\n",
    "from scipy import stats as sst\n",
    "from vsopy.util import ValErrDtype\n",
    "\n",
    "def exposure_regression(session_layout):\n",
    "    images = QTable.read(session_layout.images_file_path)\n",
    "    measured = QTable.read(session_layout.measured_file_path)\n",
    "    sequence = QTable.read(session_layout.sequence_file_path)\n",
    "    data = join(images, measured, 'image_id')['filter', 'exposure', 'auid', 'peak'].group_by(\n",
    "        ['filter', 'exposure', 'auid']).groups.aggregate(np.mean)\n",
    "    data.rename_column('filter', 'band')\n",
    "    r = join(data, sequence, ['auid', 'band']).group_by(['band', 'exposure'])\n",
    "    rr = [sst.linregress(10*np.log10(batch['peak']), batch['M']['mag']) for batch in r.groups]\n",
    "    t = r.groups.keys\n",
    "    t['Max M'] = Column([(x.intercept, x.intercept_stderr) for x in rr], dtype=ValErrDtype)\n",
    "    t['mag/dB'] = Column([(x.slope, x.stderr) for x in rr], dtype=ValErrDtype)\n",
    "    return t\n",
    "\n",
    "exposure_regression(session_layout)"
   ]
  },
  {
   "cell_type": "code",
   "execution_count": null,
   "metadata": {},
   "outputs": [],
   "source": [
    "\n",
    "from astropy.table import vstack\n",
    "sessions = [('SZ Lyn', '2025/20250127'), ('SS Aur', '2025/20250127'), ('SA20', '2024/20241003'),\n",
    "            ('SA38', '2024/20241003'), ('SA41', '2024/20241003'), ('SA111', '2024/20240828'),\n",
    "            ('SA110', '2024/20240825')]\n",
    "\n",
    "data = vstack([exposure_regression(layout.get_session(vso.util.Session(tag=s, name=n))) for n, s in sessions])"
   ]
  },
  {
   "cell_type": "code",
   "execution_count": null,
   "metadata": {},
   "outputs": [],
   "source": [
    "d = data[data['band'] == 'V']\n",
    "d"
   ]
  },
  {
   "cell_type": "code",
   "execution_count": null,
   "metadata": {},
   "outputs": [],
   "source": [
    "\n",
    "import matplotlib.pyplot as plt\n",
    "\n",
    "d = data[data['band'] == 'Ic']\n",
    "\n",
    "fig = plt.figure(figsize=(8.00, 6.00))\n",
    "gs = fig.add_gridspec(1, 1)\n",
    "\n",
    "ax = fig.add_subplot(gs[0, 0])\n",
    "ax.errorbar(d['exposure'],  d['Max M']['val'], yerr=d['Max M']['err'], fmt='.')\n",
    "ax.set_xlabel('Exp')\n",
    "ax.set_ylabel('Max M')\n",
    "\n",
    "plt.show()"
   ]
  }
 ],
 "metadata": {
  "kernelspec": {
   "display_name": ".venv",
   "language": "python",
   "name": "python3"
  },
  "language_info": {
   "codemirror_mode": {
    "name": "ipython",
    "version": 3
   },
   "file_extension": ".py",
   "mimetype": "text/x-python",
   "name": "python",
   "nbconvert_exporter": "python",
   "pygments_lexer": "ipython3",
   "version": "3.12.3"
  }
 },
 "nbformat": 4,
 "nbformat_minor": 2
}
